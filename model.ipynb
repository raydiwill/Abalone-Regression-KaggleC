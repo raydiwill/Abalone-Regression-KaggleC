{
 "cells": [
  {
   "cell_type": "markdown",
   "metadata": {},
   "source": [
    "# Import libraries"
   ]
  },
  {
   "cell_type": "code",
   "execution_count": 29,
   "metadata": {
    "ExecuteTime": {
     "end_time": "2024-04-05T08:45:28.877191Z",
     "start_time": "2024-04-05T08:45:28.872394Z"
    }
   },
   "outputs": [],
   "source": [
    "from sklearn.model_selection import train_test_split\n",
    "from sklearn.preprocessing import RobustScaler, OneHotEncoder, StandardScaler, MinMaxScaler\n",
    "from sklearn.compose import ColumnTransformer\n",
    "from xgboost import XGBRegressor\n",
    "from catboost import CatBoostRegressor\n",
    "from sklearn.ensemble import AdaBoostRegressor\n",
    "from sklearn.metrics import mean_squared_log_error\n",
    "\n",
    "import pandas as pd\n",
    "import numpy as np\n",
    "import matplotlib.pyplot as plt\n",
    "import seaborn as sns"
   ]
  },
  {
   "cell_type": "markdown",
   "metadata": {},
   "source": [
    "# Configuration"
   ]
  },
  {
   "cell_type": "code",
   "execution_count": 2,
   "metadata": {
    "ExecuteTime": {
     "end_time": "2024-04-05T08:42:54.815299Z",
     "start_time": "2024-04-05T08:42:54.812545Z"
    }
   },
   "outputs": [],
   "source": [
    "COL_NAMES = [\n",
    "    'Sex',\n",
    "    'Length',\n",
    "    'Diameter',\n",
    "    'Height',\n",
    "    'Whole weight',\n",
    "    'Whole weight.1',\n",
    "    'Whole weight.2',\n",
    "    'Shell weight',\n",
    "    'Rings']\n",
    "\n",
    "NUMERICAL_COLS = ['Length',\n",
    "    'Diameter',\n",
    "    'Height',\n",
    "    'Whole weight',\n",
    "    'Whole weight.1',\n",
    "    'Whole weight.2',\n",
    "    'Shell weight']\n",
    "\n",
    "CATEGORICAL_COL = [\"Sex\"]\n",
    "SEED = 42"
   ]
  },
  {
   "cell_type": "markdown",
   "metadata": {},
   "source": [
    "# Functions"
   ]
  },
  {
   "cell_type": "code",
   "execution_count": 3,
   "metadata": {
    "ExecuteTime": {
     "end_time": "2024-04-05T08:42:54.818860Z",
     "start_time": "2024-04-05T08:42:54.817117Z"
    }
   },
   "outputs": [],
   "source": [
    "def test_function():\n",
    "    pass"
   ]
  },
  {
   "cell_type": "markdown",
   "metadata": {},
   "source": [
    "# Import data"
   ]
  },
  {
   "cell_type": "code",
   "execution_count": 4,
   "metadata": {
    "ExecuteTime": {
     "end_time": "2024-04-05T08:42:54.869133Z",
     "start_time": "2024-04-05T08:42:54.819476Z"
    }
   },
   "outputs": [],
   "source": [
    "# Train data from Kaggle\n",
    "org_train = pd.read_csv('data/train.csv')\n",
    "\n",
    "# Orginal data from UCI\n",
    "org_data = pd.read_csv('data/abalone.data', header=None, names=COL_NAMES)"
   ]
  },
  {
   "cell_type": "code",
   "execution_count": 5,
   "metadata": {
    "ExecuteTime": {
     "end_time": "2024-04-05T08:42:54.885054Z",
     "start_time": "2024-04-05T08:42:54.870231Z"
    }
   },
   "outputs": [
    {
     "data": {
      "text/plain": "  Sex  Length  Diameter  Height  Whole weight  Whole weight.1  Whole weight.2  \\\n0   F   0.550     0.430   0.150        0.7715          0.3285          0.1465   \n1   F   0.630     0.490   0.145        1.1300          0.4580          0.2765   \n2   I   0.160     0.110   0.025        0.0210          0.0055          0.0030   \n3   M   0.595     0.475   0.150        0.9145          0.3755          0.2055   \n4   I   0.555     0.425   0.130        0.7820          0.3695          0.1600   \n\n   Shell weight  Rings  \n0        0.2400     11  \n1        0.3200     11  \n2        0.0050      6  \n3        0.2500     10  \n4        0.1975      9  ",
      "text/html": "<div>\n<style scoped>\n    .dataframe tbody tr th:only-of-type {\n        vertical-align: middle;\n    }\n\n    .dataframe tbody tr th {\n        vertical-align: top;\n    }\n\n    .dataframe thead th {\n        text-align: right;\n    }\n</style>\n<table border=\"1\" class=\"dataframe\">\n  <thead>\n    <tr style=\"text-align: right;\">\n      <th></th>\n      <th>Sex</th>\n      <th>Length</th>\n      <th>Diameter</th>\n      <th>Height</th>\n      <th>Whole weight</th>\n      <th>Whole weight.1</th>\n      <th>Whole weight.2</th>\n      <th>Shell weight</th>\n      <th>Rings</th>\n    </tr>\n  </thead>\n  <tbody>\n    <tr>\n      <th>0</th>\n      <td>F</td>\n      <td>0.550</td>\n      <td>0.430</td>\n      <td>0.150</td>\n      <td>0.7715</td>\n      <td>0.3285</td>\n      <td>0.1465</td>\n      <td>0.2400</td>\n      <td>11</td>\n    </tr>\n    <tr>\n      <th>1</th>\n      <td>F</td>\n      <td>0.630</td>\n      <td>0.490</td>\n      <td>0.145</td>\n      <td>1.1300</td>\n      <td>0.4580</td>\n      <td>0.2765</td>\n      <td>0.3200</td>\n      <td>11</td>\n    </tr>\n    <tr>\n      <th>2</th>\n      <td>I</td>\n      <td>0.160</td>\n      <td>0.110</td>\n      <td>0.025</td>\n      <td>0.0210</td>\n      <td>0.0055</td>\n      <td>0.0030</td>\n      <td>0.0050</td>\n      <td>6</td>\n    </tr>\n    <tr>\n      <th>3</th>\n      <td>M</td>\n      <td>0.595</td>\n      <td>0.475</td>\n      <td>0.150</td>\n      <td>0.9145</td>\n      <td>0.3755</td>\n      <td>0.2055</td>\n      <td>0.2500</td>\n      <td>10</td>\n    </tr>\n    <tr>\n      <th>4</th>\n      <td>I</td>\n      <td>0.555</td>\n      <td>0.425</td>\n      <td>0.130</td>\n      <td>0.7820</td>\n      <td>0.3695</td>\n      <td>0.1600</td>\n      <td>0.1975</td>\n      <td>9</td>\n    </tr>\n  </tbody>\n</table>\n</div>"
     },
     "execution_count": 5,
     "metadata": {},
     "output_type": "execute_result"
    }
   ],
   "source": [
    "# Enrich dataset\n",
    "org_train.drop('id', axis=1, inplace=True)\n",
    "df_master = pd.concat([org_train, org_data])\n",
    "\n",
    "# Leave the original data as is\n",
    "df = df_master.copy()\n",
    "df.head()"
   ]
  },
  {
   "cell_type": "markdown",
   "metadata": {},
   "source": [
    "# EDA"
   ]
  },
  {
   "cell_type": "code",
   "execution_count": 6,
   "metadata": {
    "ExecuteTime": {
     "end_time": "2024-04-05T08:42:54.887648Z",
     "start_time": "2024-04-05T08:42:54.885618Z"
    }
   },
   "outputs": [
    {
     "name": "stdout",
     "output_type": "stream",
     "text": [
      "Before concat: (90615, 9), (4177, 9)\n",
      "\n",
      "After concat: (94792, 9), (94792, 9)\n"
     ]
    }
   ],
   "source": [
    "print(f'Before concat: {org_train.shape}, {org_data.shape}\\n')\n",
    "print(f'After concat: {df_master.shape}, {df.shape}')"
   ]
  },
  {
   "cell_type": "code",
   "execution_count": 7,
   "metadata": {
    "ExecuteTime": {
     "end_time": "2024-04-05T08:42:54.905259Z",
     "start_time": "2024-04-05T08:42:54.888264Z"
    }
   },
   "outputs": [
    {
     "name": "stdout",
     "output_type": "stream",
     "text": [
      "<class 'pandas.core.frame.DataFrame'>\n",
      "Int64Index: 94792 entries, 0 to 4176\n",
      "Data columns (total 9 columns):\n",
      " #   Column          Non-Null Count  Dtype  \n",
      "---  ------          --------------  -----  \n",
      " 0   Sex             94792 non-null  object \n",
      " 1   Length          94792 non-null  float64\n",
      " 2   Diameter        94792 non-null  float64\n",
      " 3   Height          94792 non-null  float64\n",
      " 4   Whole weight    94792 non-null  float64\n",
      " 5   Whole weight.1  94792 non-null  float64\n",
      " 6   Whole weight.2  94792 non-null  float64\n",
      " 7   Shell weight    94792 non-null  float64\n",
      " 8   Rings           94792 non-null  int64  \n",
      "dtypes: float64(7), int64(1), object(1)\n",
      "memory usage: 7.2+ MB\n"
     ]
    }
   ],
   "source": [
    "# View columns stats\n",
    "df.info()"
   ]
  },
  {
   "cell_type": "markdown",
   "metadata": {},
   "source": [
    "## Null & Duplicates analysis"
   ]
  },
  {
   "cell_type": "code",
   "execution_count": 8,
   "metadata": {
    "ExecuteTime": {
     "end_time": "2024-04-05T08:42:55.021458Z",
     "start_time": "2024-04-05T08:42:54.905949Z"
    }
   },
   "outputs": [
    {
     "data": {
      "text/plain": "<Figure size 640x480 with 1 Axes>",
      "image/png": "[encoded data removed]"
     },
     "metadata": {},
     "output_type": "display_data"
    }
   ],
   "source": [
    "# Check for missing values with a horizontal bar plot\n",
    "df.isnull().sum().plot(kind='barh')\n",
    "plt.title('Missing values per column')\n",
    "plt.show()"
   ]
  },
  {
   "cell_type": "code",
   "execution_count": 9,
   "metadata": {
    "ExecuteTime": {
     "end_time": "2024-04-05T08:42:55.079934Z",
     "start_time": "2024-04-05T08:42:55.024403Z"
    }
   },
   "outputs": [
    {
     "name": "stdout",
     "output_type": "stream",
     "text": [
      "Number of duplicated records: 0\n"
     ]
    }
   ],
   "source": [
    "# Check for duplication\n",
    "print(f'Number of duplicated records: {df.duplicated().sum()}')"
   ]
  },
  {
   "cell_type": "markdown",
   "metadata": {},
   "source": [
    "## Categorical variables"
   ]
  },
  {
   "cell_type": "code",
   "execution_count": 10,
   "metadata": {
    "ExecuteTime": {
     "end_time": "2024-04-05T08:42:55.109089Z",
     "start_time": "2024-04-05T08:42:55.091322Z"
    }
   },
   "outputs": [
    {
     "data": {
      "text/plain": "['Sex']"
     },
     "execution_count": 10,
     "metadata": {},
     "output_type": "execute_result"
    }
   ],
   "source": [
    "# Select only categorical\n",
    "categorical_columns = list(df.select_dtypes(include=['object']))\n",
    "categorical_columns"
   ]
  },
  {
   "cell_type": "code",
   "execution_count": 11,
   "metadata": {
    "ExecuteTime": {
     "end_time": "2024-04-05T08:42:55.615896Z",
     "start_time": "2024-04-05T08:42:55.253077Z"
    }
   },
   "outputs": [
    {
     "data": {
      "text/plain": "<Figure size 640x480 with 1 Axes>",
      "image/png": "[encoded data removed]"
     },
     "metadata": {},
     "output_type": "display_data"
    }
   ],
   "source": [
    "sns.countplot(data=df, x=\"Sex\")\n",
    "plt.title(\"Counts per Sex\")\n",
    "plt.ylabel(\"Count\")\n",
    "plt.show()"
   ]
  },
  {
   "cell_type": "markdown",
   "metadata": {},
   "source": [
    "## Numerical variables"
   ]
  },
  {
   "cell_type": "code",
   "execution_count": 12,
   "metadata": {
    "ExecuteTime": {
     "end_time": "2024-04-05T08:42:55.625905Z",
     "start_time": "2024-04-05T08:42:55.619959Z"
    }
   },
   "outputs": [
    {
     "data": {
      "text/plain": "['Length',\n 'Diameter',\n 'Height',\n 'Whole weight',\n 'Whole weight.1',\n 'Whole weight.2',\n 'Shell weight',\n 'Rings']"
     },
     "execution_count": 12,
     "metadata": {},
     "output_type": "execute_result"
    }
   ],
   "source": [
    "# Select only numerical\n",
    "numerical_columns = list(df.select_dtypes(include=['float64', 'int64']))\n",
    "numerical_columns"
   ]
  },
  {
   "cell_type": "code",
   "execution_count": 13,
   "metadata": {
    "ExecuteTime": {
     "end_time": "2024-04-05T08:42:55.745165Z",
     "start_time": "2024-04-05T08:42:55.645564Z"
    }
   },
   "outputs": [
    {
     "data": {
      "text/plain": "          Length   Diameter     Height  Whole weight  Whole weight.1  \\\ncount  94792.000  94792.000  94792.000     94792.000       94792.000   \nmean       0.517      0.402      0.136         0.791           0.342   \nstd        0.118      0.098      0.038         0.459           0.205   \nmin        0.075      0.055      0.000         0.002           0.001   \n25%        0.445      0.345      0.110         0.420           0.178   \n50%        0.545      0.425      0.140         0.800           0.330   \n75%        0.600      0.470      0.160         1.072           0.464   \nmax        0.815      0.650      1.130         2.826           1.488   \n\n       Whole weight.2  Shell weight      Rings  \ncount       94792.000     94792.000  94792.000  \nmean            0.170         0.226      9.707  \nstd             0.101         0.131      3.179  \nmin             0.000         0.002      1.000  \n25%             0.086         0.120      8.000  \n50%             0.166         0.225      9.000  \n75%             0.233         0.305     11.000  \nmax             0.760         1.005     29.000  ",
      "text/html": "<div>\n<style scoped>\n    .dataframe tbody tr th:only-of-type {\n        vertical-align: middle;\n    }\n\n    .dataframe tbody tr th {\n        vertical-align: top;\n    }\n\n    .dataframe thead th {\n        text-align: right;\n    }\n</style>\n<table border=\"1\" class=\"dataframe\">\n  <thead>\n    <tr style=\"text-align: right;\">\n      <th></th>\n      <th>Length</th>\n      <th>Diameter</th>\n      <th>Height</th>\n      <th>Whole weight</th>\n      <th>Whole weight.1</th>\n      <th>Whole weight.2</th>\n      <th>Shell weight</th>\n      <th>Rings</th>\n    </tr>\n  </thead>\n  <tbody>\n    <tr>\n      <th>count</th>\n      <td>94792.000</td>\n      <td>94792.000</td>\n      <td>94792.000</td>\n      <td>94792.000</td>\n      <td>94792.000</td>\n      <td>94792.000</td>\n      <td>94792.000</td>\n      <td>94792.000</td>\n    </tr>\n    <tr>\n      <th>mean</th>\n      <td>0.517</td>\n      <td>0.402</td>\n      <td>0.136</td>\n      <td>0.791</td>\n      <td>0.342</td>\n      <td>0.170</td>\n      <td>0.226</td>\n      <td>9.707</td>\n    </tr>\n    <tr>\n      <th>std</th>\n      <td>0.118</td>\n      <td>0.098</td>\n      <td>0.038</td>\n      <td>0.459</td>\n      <td>0.205</td>\n      <td>0.101</td>\n      <td>0.131</td>\n      <td>3.179</td>\n    </tr>\n    <tr>\n      <th>min</th>\n      <td>0.075</td>\n      <td>0.055</td>\n      <td>0.000</td>\n      <td>0.002</td>\n      <td>0.001</td>\n      <td>0.000</td>\n      <td>0.002</td>\n      <td>1.000</td>\n    </tr>\n    <tr>\n      <th>25%</th>\n      <td>0.445</td>\n      <td>0.345</td>\n      <td>0.110</td>\n      <td>0.420</td>\n      <td>0.178</td>\n      <td>0.086</td>\n      <td>0.120</td>\n      <td>8.000</td>\n    </tr>\n    <tr>\n      <th>50%</th>\n      <td>0.545</td>\n      <td>0.425</td>\n      <td>0.140</td>\n      <td>0.800</td>\n      <td>0.330</td>\n      <td>0.166</td>\n      <td>0.225</td>\n      <td>9.000</td>\n    </tr>\n    <tr>\n      <th>75%</th>\n      <td>0.600</td>\n      <td>0.470</td>\n      <td>0.160</td>\n      <td>1.072</td>\n      <td>0.464</td>\n      <td>0.233</td>\n      <td>0.305</td>\n      <td>11.000</td>\n    </tr>\n    <tr>\n      <th>max</th>\n      <td>0.815</td>\n      <td>0.650</td>\n      <td>1.130</td>\n      <td>2.826</td>\n      <td>1.488</td>\n      <td>0.760</td>\n      <td>1.005</td>\n      <td>29.000</td>\n    </tr>\n  </tbody>\n</table>\n</div>"
     },
     "execution_count": 13,
     "metadata": {},
     "output_type": "execute_result"
    }
   ],
   "source": [
    "# Check statistics\n",
    "df[numerical_columns].describe().round(3)"
   ]
  },
  {
   "cell_type": "code",
   "execution_count": 14,
   "metadata": {
    "ExecuteTime": {
     "end_time": "2024-04-05T08:42:56.798257Z",
     "start_time": "2024-04-05T08:42:55.747050Z"
    }
   },
   "outputs": [
    {
     "data": {
      "text/plain": "<Figure size 1500x1200 with 9 Axes>",
      "image/png": "[encoded data removed]"
     },
     "metadata": {},
     "output_type": "display_data"
    }
   ],
   "source": [
    "df.hist(figsize=(15, 12))\n",
    "plt.tight_layout()\n",
    "plt.show()"
   ]
  },
  {
   "cell_type": "code",
   "execution_count": 15,
   "metadata": {
    "ExecuteTime": {
     "end_time": "2024-04-05T08:42:56.808214Z",
     "start_time": "2024-04-05T08:42:56.798976Z"
    }
   },
   "outputs": [
    {
     "data": {
      "text/plain": "Length           -0.727373\nDiameter         -0.690925\nHeight            0.475841\nWhole weight      0.436328\nWhole weight.1    0.601075\nWhole weight.2    0.485542\nShell weight      0.488303\nRings             1.200004\ndtype: float64"
     },
     "execution_count": 15,
     "metadata": {},
     "output_type": "execute_result"
    }
   ],
   "source": [
    "skew_coefficients = df[numerical_columns].skew()\n",
    "skew_coefficients"
   ]
  },
  {
   "cell_type": "markdown",
   "metadata": {},
   "source": [
    "## Correlation"
   ]
  },
  {
   "cell_type": "code",
   "execution_count": 16,
   "metadata": {
    "ExecuteTime": {
     "end_time": "2024-04-05T08:42:56.832306Z",
     "start_time": "2024-04-05T08:42:56.808812Z"
    }
   },
   "outputs": [],
   "source": [
    "# Create copy for correlation calculation\n",
    "correlation_df = df.copy()\n",
    "\n",
    "# Convert to use corr function\n",
    "correlation_df.Sex = correlation_df.Sex.astype('category').cat.codes\n",
    "\n",
    "# Create no target correlation matrix dataframe\n",
    "no_target_df = correlation_df.drop('Rings', axis=1)"
   ]
  },
  {
   "cell_type": "code",
   "execution_count": 17,
   "metadata": {
    "ExecuteTime": {
     "end_time": "2024-04-05T08:42:57.024626Z",
     "start_time": "2024-04-05T08:42:56.833201Z"
    }
   },
   "outputs": [
    {
     "data": {
      "text/plain": "<Figure size 1200x1000 with 2 Axes>",
      "image/png": "[encoded data removed]"
     },
     "metadata": {},
     "output_type": "display_data"
    }
   ],
   "source": [
    "without_target_corr_matrix = no_target_df.corr()\n",
    "\n",
    "# Create a mask for the upper triangle\n",
    "mask_up_tri = np.triu(np.ones_like(without_target_corr_matrix, dtype=bool))\n",
    "\n",
    "plt.figure(figsize=(12, 10))\n",
    "sns.heatmap(without_target_corr_matrix.round(3), annot=True, mask=mask_up_tri)\n",
    "plt.title(\"Correlation matrix with Target variable\")\n",
    "plt.show()"
   ]
  },
  {
   "cell_type": "code",
   "execution_count": 18,
   "metadata": {
    "ExecuteTime": {
     "end_time": "2024-04-05T08:42:57.046499Z",
     "start_time": "2024-04-05T08:42:57.025648Z"
    }
   },
   "outputs": [
    {
     "data": {
      "text/plain": "Rings             1.000000\nShell weight      0.691610\nHeight            0.660468\nDiameter          0.634092\nLength            0.620809\nWhole weight      0.613666\nWhole weight.2    0.584903\nWhole weight.1    0.510597\nSex               0.026677\nName: Rings, dtype: float64"
     },
     "execution_count": 18,
     "metadata": {},
     "output_type": "execute_result"
    }
   ],
   "source": [
    "# Calculate the correlation matrix with target\n",
    "correlation_df.corr().abs()[\"Rings\"].sort_values(ascending=False)"
   ]
  },
  {
   "cell_type": "markdown",
   "metadata": {},
   "source": [
    "# Pre-processing"
   ]
  },
  {
   "cell_type": "code",
   "execution_count": 19,
   "metadata": {
    "ExecuteTime": {
     "end_time": "2024-04-05T08:42:57.053692Z",
     "start_time": "2024-04-05T08:42:57.048084Z"
    }
   },
   "outputs": [],
   "source": [
    "features = df.drop('Rings', axis=1)\n",
    "target = df['Rings']"
   ]
  },
  {
   "cell_type": "code",
   "execution_count": 20,
   "metadata": {
    "ExecuteTime": {
     "end_time": "2024-04-05T08:42:57.086434Z",
     "start_time": "2024-04-05T08:42:57.057302Z"
    }
   },
   "outputs": [
    {
     "name": "stdout",
     "output_type": "stream",
     "text": [
      "Train data shape: (75833, 8), (75833,)\n",
      "Test data shape: (18959, 8), (18959,)\n"
     ]
    }
   ],
   "source": [
    "X_train, X_test, y_train, y_test = train_test_split(\n",
    "    features, target, test_size=0.2, random_state=SEED, stratify=target, shuffle=True\n",
    ")\n",
    "\n",
    "# Check the shape of the train and test data\n",
    "print(f\"Train data shape: {X_train.shape}, {y_train.shape}\")\n",
    "print(f\"Test data shape: {X_test.shape}, {y_test.shape}\")"
   ]
  },
  {
   "cell_type": "markdown",
   "metadata": {},
   "source": [
    "# Feature engineering"
   ]
  },
  {
   "cell_type": "code",
   "execution_count": 31,
   "metadata": {
    "ExecuteTime": {
     "end_time": "2024-04-05T08:45:42.472933Z",
     "start_time": "2024-04-05T08:45:42.471040Z"
    }
   },
   "outputs": [],
   "source": [
    "processor = ColumnTransformer(\n",
    "    transformers=[\n",
    "        ('num', StandardScaler(), NUMERICAL_COLS),\n",
    "        ('cat', OneHotEncoder(handle_unknown=\"ignore\"), CATEGORICAL_COL)\n",
    "    ], remainder='passthrough'\n",
    ")"
   ]
  },
  {
   "cell_type": "code",
   "execution_count": 32,
   "metadata": {
    "ExecuteTime": {
     "end_time": "2024-04-05T08:45:42.605418Z",
     "start_time": "2024-04-05T08:45:42.512732Z"
    }
   },
   "outputs": [],
   "source": [
    "X_train_processed = processor.fit_transform(X_train)\n",
    "X_test_processed = processor.transform(X_test)"
   ]
  },
  {
   "cell_type": "markdown",
   "metadata": {},
   "source": [
    "# Metric"
   ]
  },
  {
   "cell_type": "markdown",
   "metadata": {},
   "source": [
    "# Modeling"
   ]
  },
  {
   "cell_type": "code",
   "execution_count": 33,
   "metadata": {
    "ExecuteTime": {
     "end_time": "2024-04-05T08:45:48.667455Z",
     "start_time": "2024-04-05T08:45:42.634182Z"
    }
   },
   "outputs": [
    {
     "name": "stdout",
     "output_type": "stream",
     "text": [
      "Learning rate set to 0.081133\n",
      "0:\tlearn: 3.0544635\ttotal: 4.15ms\tremaining: 4.15s\n",
      "1:\tlearn: 2.9441571\ttotal: 7.18ms\tremaining: 3.58s\n",
      "2:\tlearn: 2.8402674\ttotal: 10.1ms\tremaining: 3.36s\n",
      "3:\tlearn: 2.7460932\ttotal: 13.6ms\tremaining: 3.38s\n",
      "4:\tlearn: 2.6630894\ttotal: 16.7ms\tremaining: 3.33s\n",
      "5:\tlearn: 2.5897270\ttotal: 19.9ms\tremaining: 3.3s\n",
      "6:\tlearn: 2.5248448\ttotal: 22.7ms\tremaining: 3.22s\n",
      "7:\tlearn: 2.4723581\ttotal: 25.5ms\tremaining: 3.17s\n",
      "8:\tlearn: 2.4234465\ttotal: 28.6ms\tremaining: 3.15s\n",
      "9:\tlearn: 2.3754570\ttotal: 31.3ms\tremaining: 3.1s\n",
      "10:\tlearn: 2.3326576\ttotal: 34.1ms\tremaining: 3.07s\n",
      "11:\tlearn: 2.2944919\ttotal: 37ms\tremaining: 3.05s\n",
      "12:\tlearn: 2.2612893\ttotal: 40.1ms\tremaining: 3.04s\n",
      "13:\tlearn: 2.2299037\ttotal: 42.9ms\tremaining: 3.02s\n",
      "14:\tlearn: 2.2026289\ttotal: 45.8ms\tremaining: 3.01s\n",
      "15:\tlearn: 2.1786152\ttotal: 48.5ms\tremaining: 2.98s\n",
      "16:\tlearn: 2.1571538\ttotal: 59.4ms\tremaining: 3.43s\n",
      "17:\tlearn: 2.1374965\ttotal: 77.3ms\tremaining: 4.22s\n",
      "18:\tlearn: 2.1205622\ttotal: 84.2ms\tremaining: 4.35s\n",
      "19:\tlearn: 2.1057252\ttotal: 99.7ms\tremaining: 4.88s\n",
      "20:\tlearn: 2.0920559\ttotal: 109ms\tremaining: 5.07s\n",
      "21:\tlearn: 2.0786728\ttotal: 121ms\tremaining: 5.37s\n",
      "22:\tlearn: 2.0664189\ttotal: 200ms\tremaining: 8.51s\n",
      "23:\tlearn: 2.0559781\ttotal: 205ms\tremaining: 8.33s\n",
      "24:\tlearn: 2.0467452\ttotal: 210ms\tremaining: 8.18s\n",
      "25:\tlearn: 2.0382610\ttotal: 213ms\tremaining: 7.97s\n",
      "26:\tlearn: 2.0301789\ttotal: 216ms\tremaining: 7.79s\n",
      "27:\tlearn: 2.0223524\ttotal: 219ms\tremaining: 7.6s\n",
      "28:\tlearn: 2.0155320\ttotal: 222ms\tremaining: 7.43s\n",
      "29:\tlearn: 2.0098003\ttotal: 225ms\tremaining: 7.28s\n",
      "30:\tlearn: 2.0043631\ttotal: 229ms\tremaining: 7.16s\n",
      "31:\tlearn: 1.9987404\ttotal: 234ms\tremaining: 7.06s\n",
      "32:\tlearn: 1.9939525\ttotal: 236ms\tremaining: 6.93s\n",
      "33:\tlearn: 1.9894094\ttotal: 240ms\tremaining: 6.82s\n",
      "34:\tlearn: 1.9860410\ttotal: 243ms\tremaining: 6.7s\n",
      "35:\tlearn: 1.9819849\ttotal: 247ms\tremaining: 6.61s\n",
      "36:\tlearn: 1.9779709\ttotal: 250ms\tremaining: 6.5s\n",
      "37:\tlearn: 1.9753153\ttotal: 253ms\tremaining: 6.42s\n",
      "38:\tlearn: 1.9722411\ttotal: 257ms\tremaining: 6.34s\n",
      "39:\tlearn: 1.9694659\ttotal: 260ms\tremaining: 6.25s\n",
      "40:\tlearn: 1.9666531\ttotal: 263ms\tremaining: 6.16s\n",
      "41:\tlearn: 1.9639743\ttotal: 266ms\tremaining: 6.07s\n",
      "42:\tlearn: 1.9620508\ttotal: 269ms\tremaining: 5.98s\n",
      "43:\tlearn: 1.9600663\ttotal: 272ms\tremaining: 5.9s\n",
      "44:\tlearn: 1.9572618\ttotal: 274ms\tremaining: 5.82s\n",
      "45:\tlearn: 1.9551125\ttotal: 277ms\tremaining: 5.74s\n",
      "46:\tlearn: 1.9535571\ttotal: 280ms\tremaining: 5.67s\n",
      "47:\tlearn: 1.9504684\ttotal: 283ms\tremaining: 5.6s\n",
      "48:\tlearn: 1.9484253\ttotal: 285ms\tremaining: 5.53s\n",
      "49:\tlearn: 1.9454532\ttotal: 288ms\tremaining: 5.48s\n",
      "50:\tlearn: 1.9429258\ttotal: 291ms\tremaining: 5.42s\n",
      "51:\tlearn: 1.9409181\ttotal: 294ms\tremaining: 5.36s\n",
      "52:\tlearn: 1.9397490\ttotal: 296ms\tremaining: 5.3s\n",
      "53:\tlearn: 1.9377637\ttotal: 299ms\tremaining: 5.24s\n",
      "54:\tlearn: 1.9366707\ttotal: 302ms\tremaining: 5.18s\n",
      "55:\tlearn: 1.9342743\ttotal: 304ms\tremaining: 5.13s\n",
      "56:\tlearn: 1.9326851\ttotal: 307ms\tremaining: 5.08s\n",
      "57:\tlearn: 1.9313099\ttotal: 309ms\tremaining: 5.03s\n",
      "58:\tlearn: 1.9301227\ttotal: 313ms\tremaining: 4.98s\n",
      "59:\tlearn: 1.9280196\ttotal: 316ms\tremaining: 4.94s\n",
      "60:\tlearn: 1.9269238\ttotal: 318ms\tremaining: 4.9s\n",
      "61:\tlearn: 1.9257341\ttotal: 321ms\tremaining: 4.86s\n",
      "62:\tlearn: 1.9244454\ttotal: 324ms\tremaining: 4.81s\n",
      "63:\tlearn: 1.9228540\ttotal: 326ms\tremaining: 4.77s\n",
      "64:\tlearn: 1.9219099\ttotal: 329ms\tremaining: 4.73s\n",
      "65:\tlearn: 1.9206778\ttotal: 332ms\tremaining: 4.69s\n",
      "66:\tlearn: 1.9194539\ttotal: 335ms\tremaining: 4.66s\n",
      "67:\tlearn: 1.9181259\ttotal: 338ms\tremaining: 4.63s\n",
      "68:\tlearn: 1.9168455\ttotal: 341ms\tremaining: 4.59s\n",
      "69:\tlearn: 1.9154435\ttotal: 343ms\tremaining: 4.56s\n",
      "70:\tlearn: 1.9144639\ttotal: 346ms\tremaining: 4.53s\n",
      "71:\tlearn: 1.9136647\ttotal: 349ms\tremaining: 4.5s\n",
      "72:\tlearn: 1.9128140\ttotal: 353ms\tremaining: 4.48s\n",
      "73:\tlearn: 1.9122159\ttotal: 355ms\tremaining: 4.45s\n",
      "74:\tlearn: 1.9111862\ttotal: 358ms\tremaining: 4.42s\n",
      "75:\tlearn: 1.9098910\ttotal: 362ms\tremaining: 4.41s\n",
      "76:\tlearn: 1.9089410\ttotal: 370ms\tremaining: 4.44s\n",
      "77:\tlearn: 1.9076075\ttotal: 374ms\tremaining: 4.42s\n",
      "78:\tlearn: 1.9071556\ttotal: 377ms\tremaining: 4.39s\n",
      "79:\tlearn: 1.9064518\ttotal: 380ms\tremaining: 4.37s\n",
      "80:\tlearn: 1.9053737\ttotal: 383ms\tremaining: 4.34s\n",
      "81:\tlearn: 1.9044474\ttotal: 386ms\tremaining: 4.32s\n",
      "82:\tlearn: 1.9033479\ttotal: 389ms\tremaining: 4.3s\n",
      "83:\tlearn: 1.9028832\ttotal: 392ms\tremaining: 4.27s\n",
      "84:\tlearn: 1.9021115\ttotal: 395ms\tremaining: 4.25s\n",
      "85:\tlearn: 1.9013950\ttotal: 398ms\tremaining: 4.22s\n",
      "86:\tlearn: 1.9007968\ttotal: 401ms\tremaining: 4.21s\n",
      "87:\tlearn: 1.8998832\ttotal: 404ms\tremaining: 4.19s\n",
      "88:\tlearn: 1.8992051\ttotal: 407ms\tremaining: 4.17s\n",
      "89:\tlearn: 1.8982442\ttotal: 410ms\tremaining: 4.14s\n",
      "90:\tlearn: 1.8975142\ttotal: 413ms\tremaining: 4.12s\n",
      "91:\tlearn: 1.8968266\ttotal: 415ms\tremaining: 4.1s\n",
      "92:\tlearn: 1.8959001\ttotal: 418ms\tremaining: 4.08s\n",
      "93:\tlearn: 1.8953778\ttotal: 421ms\tremaining: 4.05s\n",
      "94:\tlearn: 1.8950346\ttotal: 424ms\tremaining: 4.04s\n",
      "95:\tlearn: 1.8945916\ttotal: 427ms\tremaining: 4.02s\n",
      "96:\tlearn: 1.8939405\ttotal: 431ms\tremaining: 4.01s\n",
      "97:\tlearn: 1.8933022\ttotal: 434ms\tremaining: 4s\n",
      "98:\tlearn: 1.8928947\ttotal: 438ms\tremaining: 3.98s\n",
      "99:\tlearn: 1.8918550\ttotal: 441ms\tremaining: 3.97s\n",
      "100:\tlearn: 1.8913701\ttotal: 444ms\tremaining: 3.95s\n",
      "101:\tlearn: 1.8904033\ttotal: 447ms\tremaining: 3.93s\n",
      "102:\tlearn: 1.8899641\ttotal: 450ms\tremaining: 3.92s\n",
      "103:\tlearn: 1.8894466\ttotal: 453ms\tremaining: 3.9s\n",
      "104:\tlearn: 1.8887630\ttotal: 455ms\tremaining: 3.88s\n",
      "105:\tlearn: 1.8879317\ttotal: 458ms\tremaining: 3.86s\n",
      "106:\tlearn: 1.8875640\ttotal: 461ms\tremaining: 3.85s\n",
      "107:\tlearn: 1.8872063\ttotal: 464ms\tremaining: 3.83s\n",
      "108:\tlearn: 1.8866921\ttotal: 466ms\tremaining: 3.81s\n",
      "109:\tlearn: 1.8862979\ttotal: 470ms\tremaining: 3.8s\n",
      "110:\tlearn: 1.8856152\ttotal: 472ms\tremaining: 3.78s\n",
      "111:\tlearn: 1.8850176\ttotal: 475ms\tremaining: 3.77s\n",
      "112:\tlearn: 1.8844783\ttotal: 479ms\tremaining: 3.76s\n",
      "113:\tlearn: 1.8838737\ttotal: 482ms\tremaining: 3.74s\n",
      "114:\tlearn: 1.8832182\ttotal: 485ms\tremaining: 3.73s\n",
      "115:\tlearn: 1.8829243\ttotal: 487ms\tremaining: 3.71s\n",
      "116:\tlearn: 1.8825497\ttotal: 490ms\tremaining: 3.7s\n",
      "117:\tlearn: 1.8824158\ttotal: 493ms\tremaining: 3.69s\n",
      "118:\tlearn: 1.8820542\ttotal: 496ms\tremaining: 3.67s\n",
      "119:\tlearn: 1.8811312\ttotal: 499ms\tremaining: 3.66s\n",
      "120:\tlearn: 1.8806230\ttotal: 502ms\tremaining: 3.65s\n",
      "121:\tlearn: 1.8802425\ttotal: 505ms\tremaining: 3.63s\n",
      "122:\tlearn: 1.8798186\ttotal: 508ms\tremaining: 3.62s\n",
      "123:\tlearn: 1.8796449\ttotal: 511ms\tremaining: 3.61s\n",
      "124:\tlearn: 1.8793002\ttotal: 514ms\tremaining: 3.6s\n",
      "125:\tlearn: 1.8788766\ttotal: 517ms\tremaining: 3.59s\n",
      "126:\tlearn: 1.8782273\ttotal: 520ms\tremaining: 3.57s\n",
      "127:\tlearn: 1.8775425\ttotal: 523ms\tremaining: 3.57s\n",
      "128:\tlearn: 1.8771610\ttotal: 527ms\tremaining: 3.56s\n",
      "129:\tlearn: 1.8768630\ttotal: 530ms\tremaining: 3.54s\n",
      "130:\tlearn: 1.8763663\ttotal: 533ms\tremaining: 3.53s\n",
      "131:\tlearn: 1.8759732\ttotal: 536ms\tremaining: 3.52s\n",
      "132:\tlearn: 1.8756698\ttotal: 540ms\tremaining: 3.52s\n",
      "133:\tlearn: 1.8753197\ttotal: 543ms\tremaining: 3.51s\n",
      "134:\tlearn: 1.8746850\ttotal: 546ms\tremaining: 3.5s\n",
      "135:\tlearn: 1.8744788\ttotal: 549ms\tremaining: 3.48s\n",
      "136:\tlearn: 1.8737802\ttotal: 552ms\tremaining: 3.48s\n",
      "137:\tlearn: 1.8735044\ttotal: 555ms\tremaining: 3.46s\n",
      "138:\tlearn: 1.8732101\ttotal: 557ms\tremaining: 3.45s\n",
      "139:\tlearn: 1.8728715\ttotal: 560ms\tremaining: 3.44s\n",
      "140:\tlearn: 1.8726748\ttotal: 563ms\tremaining: 3.43s\n",
      "141:\tlearn: 1.8722893\ttotal: 566ms\tremaining: 3.42s\n",
      "142:\tlearn: 1.8717950\ttotal: 569ms\tremaining: 3.41s\n",
      "143:\tlearn: 1.8715010\ttotal: 571ms\tremaining: 3.4s\n",
      "144:\tlearn: 1.8709431\ttotal: 574ms\tremaining: 3.38s\n",
      "145:\tlearn: 1.8705971\ttotal: 577ms\tremaining: 3.38s\n",
      "146:\tlearn: 1.8699889\ttotal: 579ms\tremaining: 3.36s\n",
      "147:\tlearn: 1.8696897\ttotal: 582ms\tremaining: 3.35s\n",
      "148:\tlearn: 1.8695728\ttotal: 584ms\tremaining: 3.34s\n",
      "149:\tlearn: 1.8690934\ttotal: 587ms\tremaining: 3.33s\n",
      "150:\tlearn: 1.8683992\ttotal: 589ms\tremaining: 3.31s\n",
      "151:\tlearn: 1.8676547\ttotal: 592ms\tremaining: 3.3s\n",
      "152:\tlearn: 1.8672989\ttotal: 595ms\tremaining: 3.29s\n",
      "153:\tlearn: 1.8668207\ttotal: 597ms\tremaining: 3.28s\n",
      "154:\tlearn: 1.8662833\ttotal: 600ms\tremaining: 3.27s\n",
      "155:\tlearn: 1.8658197\ttotal: 604ms\tremaining: 3.27s\n",
      "156:\tlearn: 1.8654195\ttotal: 607ms\tremaining: 3.26s\n",
      "157:\tlearn: 1.8650896\ttotal: 611ms\tremaining: 3.25s\n",
      "158:\tlearn: 1.8649841\ttotal: 614ms\tremaining: 3.25s\n",
      "159:\tlearn: 1.8643450\ttotal: 617ms\tremaining: 3.24s\n",
      "160:\tlearn: 1.8638808\ttotal: 620ms\tremaining: 3.23s\n",
      "161:\tlearn: 1.8633999\ttotal: 623ms\tremaining: 3.22s\n",
      "162:\tlearn: 1.8626682\ttotal: 626ms\tremaining: 3.22s\n",
      "163:\tlearn: 1.8625526\ttotal: 630ms\tremaining: 3.21s\n",
      "164:\tlearn: 1.8617558\ttotal: 633ms\tremaining: 3.2s\n",
      "165:\tlearn: 1.8615553\ttotal: 636ms\tremaining: 3.19s\n",
      "166:\tlearn: 1.8607895\ttotal: 639ms\tremaining: 3.19s\n",
      "167:\tlearn: 1.8604541\ttotal: 642ms\tremaining: 3.18s\n",
      "168:\tlearn: 1.8598656\ttotal: 645ms\tremaining: 3.17s\n",
      "169:\tlearn: 1.8595223\ttotal: 647ms\tremaining: 3.16s\n",
      "170:\tlearn: 1.8590433\ttotal: 650ms\tremaining: 3.15s\n",
      "171:\tlearn: 1.8584418\ttotal: 654ms\tremaining: 3.15s\n",
      "172:\tlearn: 1.8580178\ttotal: 656ms\tremaining: 3.14s\n",
      "173:\tlearn: 1.8576792\ttotal: 659ms\tremaining: 3.13s\n",
      "174:\tlearn: 1.8571872\ttotal: 662ms\tremaining: 3.12s\n",
      "175:\tlearn: 1.8569065\ttotal: 665ms\tremaining: 3.11s\n",
      "176:\tlearn: 1.8565806\ttotal: 668ms\tremaining: 3.1s\n",
      "177:\tlearn: 1.8563645\ttotal: 671ms\tremaining: 3.1s\n",
      "178:\tlearn: 1.8557100\ttotal: 673ms\tremaining: 3.09s\n",
      "179:\tlearn: 1.8553093\ttotal: 676ms\tremaining: 3.08s\n",
      "180:\tlearn: 1.8547706\ttotal: 679ms\tremaining: 3.07s\n",
      "181:\tlearn: 1.8543678\ttotal: 682ms\tremaining: 3.06s\n",
      "182:\tlearn: 1.8542406\ttotal: 685ms\tremaining: 3.06s\n",
      "183:\tlearn: 1.8540089\ttotal: 687ms\tremaining: 3.05s\n",
      "184:\tlearn: 1.8537806\ttotal: 689ms\tremaining: 3.04s\n",
      "185:\tlearn: 1.8532575\ttotal: 692ms\tremaining: 3.03s\n",
      "186:\tlearn: 1.8531137\ttotal: 694ms\tremaining: 3.02s\n",
      "187:\tlearn: 1.8526741\ttotal: 697ms\tremaining: 3.01s\n",
      "188:\tlearn: 1.8526144\ttotal: 699ms\tremaining: 3s\n",
      "189:\tlearn: 1.8522843\ttotal: 702ms\tremaining: 2.99s\n",
      "190:\tlearn: 1.8517451\ttotal: 704ms\tremaining: 2.98s\n",
      "191:\tlearn: 1.8514714\ttotal: 707ms\tremaining: 2.97s\n",
      "192:\tlearn: 1.8509561\ttotal: 709ms\tremaining: 2.96s\n",
      "193:\tlearn: 1.8505195\ttotal: 712ms\tremaining: 2.96s\n",
      "194:\tlearn: 1.8500348\ttotal: 715ms\tremaining: 2.95s\n",
      "195:\tlearn: 1.8492360\ttotal: 718ms\tremaining: 2.94s\n",
      "196:\tlearn: 1.8487128\ttotal: 720ms\tremaining: 2.94s\n",
      "197:\tlearn: 1.8480945\ttotal: 723ms\tremaining: 2.93s\n",
      "198:\tlearn: 1.8475109\ttotal: 725ms\tremaining: 2.92s\n",
      "199:\tlearn: 1.8472762\ttotal: 728ms\tremaining: 2.91s\n",
      "200:\tlearn: 1.8468169\ttotal: 730ms\tremaining: 2.9s\n",
      "201:\tlearn: 1.8463638\ttotal: 733ms\tremaining: 2.9s\n",
      "202:\tlearn: 1.8461141\ttotal: 735ms\tremaining: 2.89s\n",
      "203:\tlearn: 1.8458748\ttotal: 738ms\tremaining: 2.88s\n",
      "204:\tlearn: 1.8455255\ttotal: 741ms\tremaining: 2.87s\n",
      "205:\tlearn: 1.8452738\ttotal: 743ms\tremaining: 2.86s\n",
      "206:\tlearn: 1.8449435\ttotal: 747ms\tremaining: 2.86s\n",
      "207:\tlearn: 1.8446081\ttotal: 750ms\tremaining: 2.85s\n",
      "208:\tlearn: 1.8443942\ttotal: 753ms\tremaining: 2.85s\n",
      "209:\tlearn: 1.8440181\ttotal: 756ms\tremaining: 2.84s\n",
      "210:\tlearn: 1.8435208\ttotal: 760ms\tremaining: 2.84s\n",
      "211:\tlearn: 1.8433565\ttotal: 762ms\tremaining: 2.83s\n",
      "212:\tlearn: 1.8429322\ttotal: 765ms\tremaining: 2.83s\n",
      "213:\tlearn: 1.8425884\ttotal: 768ms\tremaining: 2.82s\n",
      "214:\tlearn: 1.8424321\ttotal: 770ms\tremaining: 2.81s\n",
      "215:\tlearn: 1.8419214\ttotal: 773ms\tremaining: 2.8s\n",
      "216:\tlearn: 1.8416286\ttotal: 775ms\tremaining: 2.8s\n",
      "217:\tlearn: 1.8412241\ttotal: 778ms\tremaining: 2.79s\n",
      "218:\tlearn: 1.8408494\ttotal: 780ms\tremaining: 2.78s\n",
      "219:\tlearn: 1.8405176\ttotal: 783ms\tremaining: 2.78s\n",
      "220:\tlearn: 1.8402248\ttotal: 786ms\tremaining: 2.77s\n",
      "221:\tlearn: 1.8399090\ttotal: 788ms\tremaining: 2.76s\n",
      "222:\tlearn: 1.8396168\ttotal: 791ms\tremaining: 2.75s\n",
      "223:\tlearn: 1.8394384\ttotal: 793ms\tremaining: 2.75s\n",
      "224:\tlearn: 1.8393035\ttotal: 796ms\tremaining: 2.74s\n",
      "225:\tlearn: 1.8388639\ttotal: 799ms\tremaining: 2.74s\n",
      "226:\tlearn: 1.8386804\ttotal: 803ms\tremaining: 2.73s\n",
      "227:\tlearn: 1.8384379\ttotal: 805ms\tremaining: 2.73s\n",
      "228:\tlearn: 1.8382717\ttotal: 808ms\tremaining: 2.72s\n",
      "229:\tlearn: 1.8380527\ttotal: 811ms\tremaining: 2.71s\n",
      "230:\tlearn: 1.8375968\ttotal: 814ms\tremaining: 2.71s\n",
      "231:\tlearn: 1.8373051\ttotal: 816ms\tremaining: 2.7s\n",
      "232:\tlearn: 1.8370017\ttotal: 819ms\tremaining: 2.69s\n",
      "233:\tlearn: 1.8368685\ttotal: 821ms\tremaining: 2.69s\n",
      "234:\tlearn: 1.8365251\ttotal: 824ms\tremaining: 2.68s\n",
      "235:\tlearn: 1.8364000\ttotal: 826ms\tremaining: 2.67s\n",
      "236:\tlearn: 1.8360539\ttotal: 829ms\tremaining: 2.67s\n",
      "237:\tlearn: 1.8357321\ttotal: 833ms\tremaining: 2.67s\n",
      "238:\tlearn: 1.8353506\ttotal: 836ms\tremaining: 2.66s\n",
      "239:\tlearn: 1.8349811\ttotal: 839ms\tremaining: 2.66s\n",
      "240:\tlearn: 1.8347043\ttotal: 842ms\tremaining: 2.65s\n",
      "241:\tlearn: 1.8343934\ttotal: 844ms\tremaining: 2.64s\n",
      "242:\tlearn: 1.8340262\ttotal: 848ms\tremaining: 2.64s\n",
      "243:\tlearn: 1.8338794\ttotal: 850ms\tremaining: 2.63s\n",
      "244:\tlearn: 1.8336430\ttotal: 853ms\tremaining: 2.63s\n",
      "245:\tlearn: 1.8335148\ttotal: 856ms\tremaining: 2.62s\n",
      "246:\tlearn: 1.8332850\ttotal: 859ms\tremaining: 2.62s\n",
      "247:\tlearn: 1.8331800\ttotal: 862ms\tremaining: 2.61s\n",
      "248:\tlearn: 1.8329814\ttotal: 864ms\tremaining: 2.61s\n",
      "249:\tlearn: 1.8326440\ttotal: 867ms\tremaining: 2.6s\n",
      "250:\tlearn: 1.8323669\ttotal: 870ms\tremaining: 2.6s\n",
      "251:\tlearn: 1.8321463\ttotal: 872ms\tremaining: 2.59s\n",
      "252:\tlearn: 1.8320642\ttotal: 875ms\tremaining: 2.58s\n",
      "253:\tlearn: 1.8319785\ttotal: 877ms\tremaining: 2.58s\n",
      "254:\tlearn: 1.8316986\ttotal: 880ms\tremaining: 2.57s\n",
      "255:\tlearn: 1.8314482\ttotal: 883ms\tremaining: 2.57s\n",
      "256:\tlearn: 1.8309316\ttotal: 887ms\tremaining: 2.56s\n",
      "257:\tlearn: 1.8306804\ttotal: 890ms\tremaining: 2.56s\n",
      "258:\tlearn: 1.8304067\ttotal: 893ms\tremaining: 2.56s\n",
      "259:\tlearn: 1.8301090\ttotal: 896ms\tremaining: 2.55s\n",
      "260:\tlearn: 1.8297555\ttotal: 899ms\tremaining: 2.55s\n",
      "261:\tlearn: 1.8295447\ttotal: 903ms\tremaining: 2.54s\n",
      "262:\tlearn: 1.8293679\ttotal: 906ms\tremaining: 2.54s\n",
      "263:\tlearn: 1.8291061\ttotal: 909ms\tremaining: 2.53s\n",
      "264:\tlearn: 1.8289868\ttotal: 912ms\tremaining: 2.53s\n",
      "265:\tlearn: 1.8288723\ttotal: 915ms\tremaining: 2.52s\n",
      "266:\tlearn: 1.8284276\ttotal: 918ms\tremaining: 2.52s\n",
      "267:\tlearn: 1.8281190\ttotal: 921ms\tremaining: 2.52s\n",
      "268:\tlearn: 1.8278399\ttotal: 924ms\tremaining: 2.51s\n",
      "269:\tlearn: 1.8274395\ttotal: 927ms\tremaining: 2.51s\n",
      "270:\tlearn: 1.8271602\ttotal: 930ms\tremaining: 2.5s\n",
      "271:\tlearn: 1.8267113\ttotal: 934ms\tremaining: 2.5s\n",
      "272:\tlearn: 1.8263920\ttotal: 937ms\tremaining: 2.5s\n",
      "273:\tlearn: 1.8260052\ttotal: 940ms\tremaining: 2.49s\n",
      "274:\tlearn: 1.8257490\ttotal: 943ms\tremaining: 2.48s\n",
      "275:\tlearn: 1.8254096\ttotal: 945ms\tremaining: 2.48s\n",
      "276:\tlearn: 1.8251283\ttotal: 948ms\tremaining: 2.47s\n",
      "277:\tlearn: 1.8248348\ttotal: 950ms\tremaining: 2.47s\n",
      "278:\tlearn: 1.8246000\ttotal: 953ms\tremaining: 2.46s\n",
      "279:\tlearn: 1.8241873\ttotal: 956ms\tremaining: 2.46s\n",
      "280:\tlearn: 1.8239046\ttotal: 958ms\tremaining: 2.45s\n",
      "281:\tlearn: 1.8238684\ttotal: 961ms\tremaining: 2.44s\n",
      "282:\tlearn: 1.8236528\ttotal: 964ms\tremaining: 2.44s\n",
      "283:\tlearn: 1.8234755\ttotal: 967ms\tremaining: 2.44s\n",
      "284:\tlearn: 1.8232042\ttotal: 970ms\tremaining: 2.43s\n",
      "285:\tlearn: 1.8229167\ttotal: 973ms\tremaining: 2.43s\n",
      "286:\tlearn: 1.8227688\ttotal: 976ms\tremaining: 2.42s\n",
      "287:\tlearn: 1.8226538\ttotal: 978ms\tremaining: 2.42s\n",
      "288:\tlearn: 1.8223195\ttotal: 981ms\tremaining: 2.41s\n",
      "289:\tlearn: 1.8221535\ttotal: 984ms\tremaining: 2.41s\n",
      "290:\tlearn: 1.8216564\ttotal: 988ms\tremaining: 2.41s\n",
      "291:\tlearn: 1.8214241\ttotal: 991ms\tremaining: 2.4s\n",
      "292:\tlearn: 1.8211591\ttotal: 994ms\tremaining: 2.4s\n",
      "293:\tlearn: 1.8208613\ttotal: 998ms\tremaining: 2.4s\n",
      "294:\tlearn: 1.8206603\ttotal: 1s\tremaining: 2.39s\n",
      "295:\tlearn: 1.8204015\ttotal: 1s\tremaining: 2.39s\n",
      "296:\tlearn: 1.8200744\ttotal: 1.01s\tremaining: 2.38s\n",
      "297:\tlearn: 1.8197202\ttotal: 1.01s\tremaining: 2.38s\n",
      "298:\tlearn: 1.8195549\ttotal: 1.01s\tremaining: 2.38s\n",
      "299:\tlearn: 1.8192058\ttotal: 1.02s\tremaining: 2.37s\n",
      "300:\tlearn: 1.8188555\ttotal: 1.02s\tremaining: 2.37s\n",
      "301:\tlearn: 1.8187015\ttotal: 1.02s\tremaining: 2.36s\n",
      "302:\tlearn: 1.8183142\ttotal: 1.03s\tremaining: 2.36s\n",
      "303:\tlearn: 1.8180790\ttotal: 1.03s\tremaining: 2.36s\n",
      "304:\tlearn: 1.8179367\ttotal: 1.03s\tremaining: 2.35s\n",
      "305:\tlearn: 1.8178397\ttotal: 1.03s\tremaining: 2.35s\n",
      "306:\tlearn: 1.8177981\ttotal: 1.04s\tremaining: 2.34s\n",
      "307:\tlearn: 1.8176867\ttotal: 1.04s\tremaining: 2.33s\n",
      "308:\tlearn: 1.8173398\ttotal: 1.04s\tremaining: 2.33s\n",
      "309:\tlearn: 1.8170183\ttotal: 1.04s\tremaining: 2.33s\n",
      "310:\tlearn: 1.8166977\ttotal: 1.05s\tremaining: 2.32s\n",
      "311:\tlearn: 1.8163496\ttotal: 1.05s\tremaining: 2.32s\n",
      "312:\tlearn: 1.8160156\ttotal: 1.05s\tremaining: 2.31s\n",
      "313:\tlearn: 1.8156729\ttotal: 1.06s\tremaining: 2.31s\n",
      "314:\tlearn: 1.8154909\ttotal: 1.06s\tremaining: 2.3s\n",
      "315:\tlearn: 1.8152122\ttotal: 1.06s\tremaining: 2.3s\n",
      "316:\tlearn: 1.8151515\ttotal: 1.06s\tremaining: 2.29s\n",
      "317:\tlearn: 1.8149403\ttotal: 1.07s\tremaining: 2.29s\n",
      "318:\tlearn: 1.8148474\ttotal: 1.07s\tremaining: 2.28s\n",
      "319:\tlearn: 1.8145333\ttotal: 1.07s\tremaining: 2.28s\n",
      "320:\tlearn: 1.8142164\ttotal: 1.07s\tremaining: 2.27s\n",
      "321:\tlearn: 1.8141407\ttotal: 1.08s\tremaining: 2.27s\n",
      "322:\tlearn: 1.8138161\ttotal: 1.08s\tremaining: 2.27s\n",
      "323:\tlearn: 1.8135953\ttotal: 1.08s\tremaining: 2.26s\n",
      "324:\tlearn: 1.8134184\ttotal: 1.08s\tremaining: 2.25s\n",
      "325:\tlearn: 1.8133478\ttotal: 1.09s\tremaining: 2.25s\n",
      "326:\tlearn: 1.8129753\ttotal: 1.09s\tremaining: 2.25s\n",
      "327:\tlearn: 1.8127548\ttotal: 1.09s\tremaining: 2.24s\n",
      "328:\tlearn: 1.8126136\ttotal: 1.1s\tremaining: 2.23s\n",
      "329:\tlearn: 1.8125294\ttotal: 1.1s\tremaining: 2.23s\n",
      "330:\tlearn: 1.8121873\ttotal: 1.1s\tremaining: 2.23s\n",
      "331:\tlearn: 1.8120604\ttotal: 1.1s\tremaining: 2.22s\n",
      "332:\tlearn: 1.8118079\ttotal: 1.11s\tremaining: 2.22s\n",
      "333:\tlearn: 1.8117220\ttotal: 1.11s\tremaining: 2.21s\n",
      "334:\tlearn: 1.8115835\ttotal: 1.11s\tremaining: 2.21s\n",
      "335:\tlearn: 1.8113026\ttotal: 1.11s\tremaining: 2.2s\n",
      "336:\tlearn: 1.8111642\ttotal: 1.12s\tremaining: 2.2s\n",
      "337:\tlearn: 1.8107301\ttotal: 1.12s\tremaining: 2.19s\n",
      "338:\tlearn: 1.8105428\ttotal: 1.12s\tremaining: 2.19s\n",
      "339:\tlearn: 1.8102081\ttotal: 1.12s\tremaining: 2.18s\n",
      "340:\tlearn: 1.8100543\ttotal: 1.13s\tremaining: 2.18s\n",
      "341:\tlearn: 1.8098211\ttotal: 1.13s\tremaining: 2.17s\n",
      "342:\tlearn: 1.8095860\ttotal: 1.13s\tremaining: 2.17s\n",
      "343:\tlearn: 1.8092560\ttotal: 1.13s\tremaining: 2.16s\n",
      "344:\tlearn: 1.8090780\ttotal: 1.14s\tremaining: 2.16s\n",
      "345:\tlearn: 1.8088423\ttotal: 1.14s\tremaining: 2.15s\n",
      "346:\tlearn: 1.8086205\ttotal: 1.14s\tremaining: 2.15s\n",
      "347:\tlearn: 1.8083800\ttotal: 1.14s\tremaining: 2.14s\n",
      "348:\tlearn: 1.8081415\ttotal: 1.15s\tremaining: 2.14s\n",
      "349:\tlearn: 1.8079813\ttotal: 1.15s\tremaining: 2.13s\n",
      "350:\tlearn: 1.8077153\ttotal: 1.15s\tremaining: 2.13s\n",
      "351:\tlearn: 1.8074622\ttotal: 1.15s\tremaining: 2.13s\n",
      "352:\tlearn: 1.8070207\ttotal: 1.16s\tremaining: 2.12s\n",
      "353:\tlearn: 1.8067541\ttotal: 1.16s\tremaining: 2.12s\n",
      "354:\tlearn: 1.8063923\ttotal: 1.16s\tremaining: 2.11s\n",
      "355:\tlearn: 1.8062374\ttotal: 1.16s\tremaining: 2.11s\n",
      "356:\tlearn: 1.8062238\ttotal: 1.17s\tremaining: 2.1s\n",
      "357:\tlearn: 1.8060980\ttotal: 1.17s\tremaining: 2.1s\n",
      "358:\tlearn: 1.8058884\ttotal: 1.17s\tremaining: 2.09s\n",
      "359:\tlearn: 1.8056361\ttotal: 1.17s\tremaining: 2.09s\n",
      "360:\tlearn: 1.8053326\ttotal: 1.18s\tremaining: 2.08s\n",
      "361:\tlearn: 1.8051936\ttotal: 1.18s\tremaining: 2.08s\n",
      "362:\tlearn: 1.8049145\ttotal: 1.18s\tremaining: 2.07s\n",
      "363:\tlearn: 1.8046162\ttotal: 1.18s\tremaining: 2.07s\n",
      "364:\tlearn: 1.8045172\ttotal: 1.19s\tremaining: 2.06s\n",
      "365:\tlearn: 1.8042430\ttotal: 1.19s\tremaining: 2.06s\n",
      "366:\tlearn: 1.8040635\ttotal: 1.19s\tremaining: 2.06s\n",
      "367:\tlearn: 1.8038620\ttotal: 1.19s\tremaining: 2.05s\n",
      "368:\tlearn: 1.8034969\ttotal: 1.2s\tremaining: 2.05s\n",
      "369:\tlearn: 1.8031952\ttotal: 1.2s\tremaining: 2.04s\n",
      "370:\tlearn: 1.8030994\ttotal: 1.2s\tremaining: 2.04s\n",
      "371:\tlearn: 1.8028340\ttotal: 1.21s\tremaining: 2.04s\n",
      "372:\tlearn: 1.8025569\ttotal: 1.21s\tremaining: 2.03s\n",
      "373:\tlearn: 1.8022776\ttotal: 1.21s\tremaining: 2.03s\n",
      "374:\tlearn: 1.8021202\ttotal: 1.21s\tremaining: 2.02s\n",
      "375:\tlearn: 1.8019538\ttotal: 1.22s\tremaining: 2.02s\n",
      "376:\tlearn: 1.8016387\ttotal: 1.22s\tremaining: 2.01s\n",
      "377:\tlearn: 1.8014915\ttotal: 1.23s\tremaining: 2.02s\n",
      "378:\tlearn: 1.8012648\ttotal: 1.23s\tremaining: 2.02s\n",
      "379:\tlearn: 1.8010063\ttotal: 1.23s\tremaining: 2.01s\n",
      "380:\tlearn: 1.8008271\ttotal: 1.24s\tremaining: 2.01s\n",
      "381:\tlearn: 1.8006651\ttotal: 1.24s\tremaining: 2s\n",
      "382:\tlearn: 1.8004604\ttotal: 1.24s\tremaining: 2s\n",
      "383:\tlearn: 1.8003071\ttotal: 1.24s\tremaining: 1.99s\n",
      "384:\tlearn: 1.8002061\ttotal: 1.25s\tremaining: 1.99s\n",
      "385:\tlearn: 1.7999688\ttotal: 1.25s\tremaining: 1.99s\n",
      "386:\tlearn: 1.7997804\ttotal: 1.25s\tremaining: 1.99s\n",
      "387:\tlearn: 1.7995574\ttotal: 1.25s\tremaining: 1.98s\n",
      "388:\tlearn: 1.7993137\ttotal: 1.26s\tremaining: 1.98s\n",
      "389:\tlearn: 1.7991014\ttotal: 1.26s\tremaining: 1.97s\n",
      "390:\tlearn: 1.7989034\ttotal: 1.26s\tremaining: 1.97s\n",
      "391:\tlearn: 1.7986756\ttotal: 1.27s\tremaining: 1.96s\n",
      "392:\tlearn: 1.7985263\ttotal: 1.27s\tremaining: 1.96s\n",
      "393:\tlearn: 1.7982018\ttotal: 1.27s\tremaining: 1.96s\n",
      "394:\tlearn: 1.7981077\ttotal: 1.27s\tremaining: 1.95s\n",
      "395:\tlearn: 1.7978831\ttotal: 1.28s\tremaining: 1.95s\n",
      "396:\tlearn: 1.7976798\ttotal: 1.28s\tremaining: 1.94s\n",
      "397:\tlearn: 1.7975262\ttotal: 1.28s\tremaining: 1.94s\n",
      "398:\tlearn: 1.7973580\ttotal: 1.28s\tremaining: 1.93s\n",
      "399:\tlearn: 1.7971980\ttotal: 1.29s\tremaining: 1.93s\n",
      "400:\tlearn: 1.7971390\ttotal: 1.29s\tremaining: 1.93s\n",
      "401:\tlearn: 1.7968935\ttotal: 1.29s\tremaining: 1.92s\n",
      "402:\tlearn: 1.7965981\ttotal: 1.29s\tremaining: 1.92s\n",
      "403:\tlearn: 1.7964069\ttotal: 1.3s\tremaining: 1.91s\n",
      "404:\tlearn: 1.7962361\ttotal: 1.3s\tremaining: 1.91s\n",
      "405:\tlearn: 1.7961992\ttotal: 1.3s\tremaining: 1.91s\n",
      "406:\tlearn: 1.7961466\ttotal: 1.3s\tremaining: 1.9s\n",
      "407:\tlearn: 1.7959798\ttotal: 1.31s\tremaining: 1.9s\n",
      "408:\tlearn: 1.7957178\ttotal: 1.31s\tremaining: 1.89s\n",
      "409:\tlearn: 1.7955005\ttotal: 1.31s\tremaining: 1.89s\n",
      "410:\tlearn: 1.7952779\ttotal: 1.31s\tremaining: 1.89s\n",
      "411:\tlearn: 1.7950638\ttotal: 1.32s\tremaining: 1.88s\n",
      "412:\tlearn: 1.7949401\ttotal: 1.32s\tremaining: 1.88s\n",
      "413:\tlearn: 1.7949067\ttotal: 1.32s\tremaining: 1.87s\n",
      "414:\tlearn: 1.7948758\ttotal: 1.33s\tremaining: 1.87s\n",
      "415:\tlearn: 1.7945991\ttotal: 1.33s\tremaining: 1.86s\n",
      "416:\tlearn: 1.7943865\ttotal: 1.33s\tremaining: 1.86s\n",
      "417:\tlearn: 1.7942486\ttotal: 1.33s\tremaining: 1.86s\n",
      "418:\tlearn: 1.7941065\ttotal: 1.34s\tremaining: 1.85s\n",
      "419:\tlearn: 1.7939550\ttotal: 1.34s\tremaining: 1.85s\n",
      "420:\tlearn: 1.7937394\ttotal: 1.34s\tremaining: 1.85s\n",
      "421:\tlearn: 1.7933801\ttotal: 1.34s\tremaining: 1.84s\n",
      "422:\tlearn: 1.7931742\ttotal: 1.35s\tremaining: 1.84s\n",
      "423:\tlearn: 1.7929921\ttotal: 1.35s\tremaining: 1.83s\n",
      "424:\tlearn: 1.7928400\ttotal: 1.35s\tremaining: 1.83s\n",
      "425:\tlearn: 1.7926121\ttotal: 1.36s\tremaining: 1.83s\n",
      "426:\tlearn: 1.7924309\ttotal: 1.36s\tremaining: 1.82s\n",
      "427:\tlearn: 1.7921773\ttotal: 1.36s\tremaining: 1.82s\n",
      "428:\tlearn: 1.7920180\ttotal: 1.36s\tremaining: 1.82s\n",
      "429:\tlearn: 1.7920070\ttotal: 1.37s\tremaining: 1.81s\n",
      "430:\tlearn: 1.7918992\ttotal: 1.37s\tremaining: 1.81s\n",
      "431:\tlearn: 1.7918061\ttotal: 1.37s\tremaining: 1.8s\n",
      "432:\tlearn: 1.7917000\ttotal: 1.37s\tremaining: 1.8s\n",
      "433:\tlearn: 1.7914040\ttotal: 1.38s\tremaining: 1.79s\n",
      "434:\tlearn: 1.7912686\ttotal: 1.38s\tremaining: 1.79s\n",
      "435:\tlearn: 1.7910529\ttotal: 1.38s\tremaining: 1.79s\n",
      "436:\tlearn: 1.7907549\ttotal: 1.39s\tremaining: 1.79s\n",
      "437:\tlearn: 1.7906820\ttotal: 1.39s\tremaining: 1.78s\n",
      "438:\tlearn: 1.7904188\ttotal: 1.39s\tremaining: 1.78s\n",
      "439:\tlearn: 1.7903437\ttotal: 1.4s\tremaining: 1.77s\n",
      "440:\tlearn: 1.7901986\ttotal: 1.4s\tremaining: 1.77s\n",
      "441:\tlearn: 1.7900304\ttotal: 1.4s\tremaining: 1.77s\n",
      "442:\tlearn: 1.7898207\ttotal: 1.4s\tremaining: 1.76s\n",
      "443:\tlearn: 1.7897251\ttotal: 1.41s\tremaining: 1.76s\n",
      "444:\tlearn: 1.7894391\ttotal: 1.41s\tremaining: 1.76s\n",
      "445:\tlearn: 1.7893072\ttotal: 1.41s\tremaining: 1.75s\n",
      "446:\tlearn: 1.7891202\ttotal: 1.41s\tremaining: 1.75s\n",
      "447:\tlearn: 1.7890838\ttotal: 1.42s\tremaining: 1.75s\n",
      "448:\tlearn: 1.7889189\ttotal: 1.42s\tremaining: 1.74s\n",
      "449:\tlearn: 1.7887050\ttotal: 1.42s\tremaining: 1.74s\n",
      "450:\tlearn: 1.7884057\ttotal: 1.43s\tremaining: 1.74s\n",
      "451:\tlearn: 1.7881206\ttotal: 1.43s\tremaining: 1.74s\n",
      "452:\tlearn: 1.7878947\ttotal: 1.44s\tremaining: 1.73s\n",
      "453:\tlearn: 1.7876960\ttotal: 1.44s\tremaining: 1.73s\n",
      "454:\tlearn: 1.7874149\ttotal: 1.44s\tremaining: 1.73s\n",
      "455:\tlearn: 1.7874044\ttotal: 1.44s\tremaining: 1.72s\n",
      "456:\tlearn: 1.7873985\ttotal: 1.45s\tremaining: 1.72s\n",
      "457:\tlearn: 1.7872430\ttotal: 1.45s\tremaining: 1.72s\n",
      "458:\tlearn: 1.7870197\ttotal: 1.45s\tremaining: 1.71s\n",
      "459:\tlearn: 1.7868244\ttotal: 1.45s\tremaining: 1.71s\n",
      "460:\tlearn: 1.7867227\ttotal: 1.46s\tremaining: 1.7s\n",
      "461:\tlearn: 1.7866074\ttotal: 1.46s\tremaining: 1.7s\n",
      "462:\tlearn: 1.7863045\ttotal: 1.46s\tremaining: 1.7s\n",
      "463:\tlearn: 1.7862250\ttotal: 1.47s\tremaining: 1.69s\n",
      "464:\tlearn: 1.7860563\ttotal: 1.47s\tremaining: 1.69s\n",
      "465:\tlearn: 1.7857063\ttotal: 1.47s\tremaining: 1.69s\n",
      "466:\tlearn: 1.7855303\ttotal: 1.47s\tremaining: 1.68s\n",
      "467:\tlearn: 1.7854195\ttotal: 1.48s\tremaining: 1.68s\n",
      "468:\tlearn: 1.7852609\ttotal: 1.48s\tremaining: 1.67s\n",
      "469:\tlearn: 1.7850584\ttotal: 1.48s\tremaining: 1.67s\n",
      "470:\tlearn: 1.7848926\ttotal: 1.48s\tremaining: 1.67s\n",
      "471:\tlearn: 1.7847045\ttotal: 1.49s\tremaining: 1.66s\n",
      "472:\tlearn: 1.7844987\ttotal: 1.49s\tremaining: 1.66s\n",
      "473:\tlearn: 1.7842708\ttotal: 1.49s\tremaining: 1.65s\n",
      "474:\tlearn: 1.7839644\ttotal: 1.49s\tremaining: 1.65s\n",
      "475:\tlearn: 1.7838153\ttotal: 1.5s\tremaining: 1.65s\n",
      "476:\tlearn: 1.7835648\ttotal: 1.5s\tremaining: 1.64s\n",
      "477:\tlearn: 1.7833764\ttotal: 1.5s\tremaining: 1.64s\n",
      "478:\tlearn: 1.7832918\ttotal: 1.5s\tremaining: 1.64s\n",
      "479:\tlearn: 1.7830710\ttotal: 1.5s\tremaining: 1.63s\n",
      "480:\tlearn: 1.7828894\ttotal: 1.51s\tremaining: 1.63s\n",
      "481:\tlearn: 1.7828299\ttotal: 1.51s\tremaining: 1.62s\n",
      "482:\tlearn: 1.7825983\ttotal: 1.51s\tremaining: 1.62s\n",
      "483:\tlearn: 1.7824571\ttotal: 1.52s\tremaining: 1.62s\n",
      "484:\tlearn: 1.7822882\ttotal: 1.52s\tremaining: 1.61s\n",
      "485:\tlearn: 1.7821338\ttotal: 1.52s\tremaining: 1.61s\n",
      "486:\tlearn: 1.7818506\ttotal: 1.52s\tremaining: 1.6s\n",
      "487:\tlearn: 1.7817835\ttotal: 1.52s\tremaining: 1.6s\n",
      "488:\tlearn: 1.7817654\ttotal: 1.53s\tremaining: 1.6s\n",
      "489:\tlearn: 1.7816902\ttotal: 1.53s\tremaining: 1.59s\n",
      "490:\tlearn: 1.7814806\ttotal: 1.53s\tremaining: 1.59s\n",
      "491:\tlearn: 1.7813530\ttotal: 1.54s\tremaining: 1.59s\n",
      "492:\tlearn: 1.7812308\ttotal: 1.54s\tremaining: 1.58s\n",
      "493:\tlearn: 1.7810434\ttotal: 1.54s\tremaining: 1.58s\n",
      "494:\tlearn: 1.7810166\ttotal: 1.54s\tremaining: 1.57s\n",
      "495:\tlearn: 1.7807593\ttotal: 1.55s\tremaining: 1.57s\n",
      "496:\tlearn: 1.7804864\ttotal: 1.55s\tremaining: 1.57s\n",
      "497:\tlearn: 1.7801288\ttotal: 1.55s\tremaining: 1.56s\n",
      "498:\tlearn: 1.7798983\ttotal: 1.55s\tremaining: 1.56s\n",
      "499:\tlearn: 1.7796477\ttotal: 1.56s\tremaining: 1.56s\n",
      "500:\tlearn: 1.7793828\ttotal: 1.56s\tremaining: 1.55s\n",
      "501:\tlearn: 1.7791919\ttotal: 1.56s\tremaining: 1.55s\n",
      "502:\tlearn: 1.7791238\ttotal: 1.56s\tremaining: 1.55s\n",
      "503:\tlearn: 1.7789436\ttotal: 1.57s\tremaining: 1.54s\n",
      "504:\tlearn: 1.7787008\ttotal: 1.57s\tremaining: 1.54s\n",
      "505:\tlearn: 1.7785173\ttotal: 1.57s\tremaining: 1.54s\n",
      "506:\tlearn: 1.7784132\ttotal: 1.58s\tremaining: 1.53s\n",
      "507:\tlearn: 1.7782828\ttotal: 1.58s\tremaining: 1.53s\n",
      "508:\tlearn: 1.7780303\ttotal: 1.58s\tremaining: 1.52s\n",
      "509:\tlearn: 1.7778552\ttotal: 1.58s\tremaining: 1.52s\n",
      "510:\tlearn: 1.7776335\ttotal: 1.59s\tremaining: 1.52s\n",
      "511:\tlearn: 1.7773903\ttotal: 1.59s\tremaining: 1.51s\n",
      "512:\tlearn: 1.7772913\ttotal: 1.59s\tremaining: 1.51s\n",
      "513:\tlearn: 1.7771354\ttotal: 1.59s\tremaining: 1.51s\n",
      "514:\tlearn: 1.7769823\ttotal: 1.6s\tremaining: 1.5s\n",
      "515:\tlearn: 1.7767076\ttotal: 1.6s\tremaining: 1.5s\n",
      "516:\tlearn: 1.7764966\ttotal: 1.6s\tremaining: 1.5s\n",
      "517:\tlearn: 1.7763877\ttotal: 1.6s\tremaining: 1.49s\n",
      "518:\tlearn: 1.7761521\ttotal: 1.61s\tremaining: 1.49s\n",
      "519:\tlearn: 1.7759657\ttotal: 1.61s\tremaining: 1.49s\n",
      "520:\tlearn: 1.7758319\ttotal: 1.61s\tremaining: 1.48s\n",
      "521:\tlearn: 1.7756848\ttotal: 1.61s\tremaining: 1.48s\n",
      "522:\tlearn: 1.7753526\ttotal: 1.62s\tremaining: 1.48s\n",
      "523:\tlearn: 1.7750522\ttotal: 1.62s\tremaining: 1.47s\n",
      "524:\tlearn: 1.7748546\ttotal: 1.62s\tremaining: 1.47s\n",
      "525:\tlearn: 1.7747345\ttotal: 1.63s\tremaining: 1.47s\n",
      "526:\tlearn: 1.7746768\ttotal: 1.63s\tremaining: 1.46s\n",
      "527:\tlearn: 1.7743939\ttotal: 1.63s\tremaining: 1.46s\n",
      "528:\tlearn: 1.7742458\ttotal: 1.64s\tremaining: 1.46s\n",
      "529:\tlearn: 1.7741023\ttotal: 1.64s\tremaining: 1.45s\n",
      "530:\tlearn: 1.7739786\ttotal: 1.64s\tremaining: 1.45s\n",
      "531:\tlearn: 1.7739275\ttotal: 1.65s\tremaining: 1.45s\n",
      "532:\tlearn: 1.7736987\ttotal: 1.65s\tremaining: 1.44s\n",
      "533:\tlearn: 1.7735183\ttotal: 1.65s\tremaining: 1.44s\n",
      "534:\tlearn: 1.7733232\ttotal: 1.65s\tremaining: 1.44s\n",
      "535:\tlearn: 1.7732841\ttotal: 1.66s\tremaining: 1.43s\n",
      "536:\tlearn: 1.7730831\ttotal: 1.66s\tremaining: 1.43s\n",
      "537:\tlearn: 1.7729022\ttotal: 1.66s\tremaining: 1.43s\n",
      "538:\tlearn: 1.7727424\ttotal: 1.66s\tremaining: 1.42s\n",
      "539:\tlearn: 1.7726323\ttotal: 1.67s\tremaining: 1.42s\n",
      "540:\tlearn: 1.7725617\ttotal: 1.67s\tremaining: 1.42s\n",
      "541:\tlearn: 1.7725196\ttotal: 1.67s\tremaining: 1.41s\n",
      "542:\tlearn: 1.7722713\ttotal: 1.67s\tremaining: 1.41s\n",
      "543:\tlearn: 1.7720566\ttotal: 1.68s\tremaining: 1.4s\n",
      "544:\tlearn: 1.7718646\ttotal: 1.68s\tremaining: 1.4s\n",
      "545:\tlearn: 1.7716286\ttotal: 1.68s\tremaining: 1.4s\n",
      "546:\tlearn: 1.7715127\ttotal: 1.68s\tremaining: 1.39s\n",
      "547:\tlearn: 1.7713868\ttotal: 1.69s\tremaining: 1.39s\n",
      "548:\tlearn: 1.7712857\ttotal: 1.69s\tremaining: 1.39s\n",
      "549:\tlearn: 1.7711014\ttotal: 1.69s\tremaining: 1.38s\n",
      "550:\tlearn: 1.7709333\ttotal: 1.69s\tremaining: 1.38s\n",
      "551:\tlearn: 1.7707576\ttotal: 1.7s\tremaining: 1.38s\n",
      "552:\tlearn: 1.7707218\ttotal: 1.7s\tremaining: 1.37s\n",
      "553:\tlearn: 1.7705236\ttotal: 1.7s\tremaining: 1.37s\n",
      "554:\tlearn: 1.7704390\ttotal: 1.7s\tremaining: 1.36s\n",
      "555:\tlearn: 1.7702180\ttotal: 1.71s\tremaining: 1.36s\n",
      "556:\tlearn: 1.7700168\ttotal: 1.71s\tremaining: 1.36s\n",
      "557:\tlearn: 1.7697961\ttotal: 1.71s\tremaining: 1.35s\n",
      "558:\tlearn: 1.7695148\ttotal: 1.71s\tremaining: 1.35s\n",
      "559:\tlearn: 1.7693548\ttotal: 1.72s\tremaining: 1.35s\n",
      "560:\tlearn: 1.7691898\ttotal: 1.72s\tremaining: 1.34s\n",
      "561:\tlearn: 1.7689424\ttotal: 1.72s\tremaining: 1.34s\n",
      "562:\tlearn: 1.7687786\ttotal: 1.72s\tremaining: 1.34s\n",
      "563:\tlearn: 1.7686183\ttotal: 1.73s\tremaining: 1.33s\n",
      "564:\tlearn: 1.7685437\ttotal: 1.73s\tremaining: 1.33s\n",
      "565:\tlearn: 1.7684093\ttotal: 1.73s\tremaining: 1.33s\n",
      "566:\tlearn: 1.7682616\ttotal: 1.73s\tremaining: 1.32s\n",
      "567:\tlearn: 1.7681015\ttotal: 1.74s\tremaining: 1.32s\n",
      "568:\tlearn: 1.7678759\ttotal: 1.74s\tremaining: 1.32s\n",
      "569:\tlearn: 1.7676912\ttotal: 1.75s\tremaining: 1.32s\n",
      "570:\tlearn: 1.7676088\ttotal: 1.75s\tremaining: 1.31s\n",
      "571:\tlearn: 1.7674353\ttotal: 1.75s\tremaining: 1.31s\n",
      "572:\tlearn: 1.7672290\ttotal: 1.75s\tremaining: 1.31s\n",
      "573:\tlearn: 1.7671731\ttotal: 1.76s\tremaining: 1.3s\n",
      "574:\tlearn: 1.7670951\ttotal: 1.76s\tremaining: 1.3s\n",
      "575:\tlearn: 1.7670590\ttotal: 1.76s\tremaining: 1.3s\n",
      "576:\tlearn: 1.7668525\ttotal: 1.76s\tremaining: 1.29s\n",
      "577:\tlearn: 1.7667388\ttotal: 1.77s\tremaining: 1.29s\n",
      "578:\tlearn: 1.7666279\ttotal: 1.77s\tremaining: 1.29s\n",
      "579:\tlearn: 1.7665787\ttotal: 1.77s\tremaining: 1.28s\n",
      "580:\tlearn: 1.7664576\ttotal: 1.78s\tremaining: 1.28s\n",
      "581:\tlearn: 1.7661959\ttotal: 1.78s\tremaining: 1.28s\n",
      "582:\tlearn: 1.7660171\ttotal: 1.78s\tremaining: 1.27s\n",
      "583:\tlearn: 1.7657297\ttotal: 1.78s\tremaining: 1.27s\n",
      "584:\tlearn: 1.7655519\ttotal: 1.79s\tremaining: 1.27s\n",
      "585:\tlearn: 1.7653828\ttotal: 1.79s\tremaining: 1.26s\n",
      "586:\tlearn: 1.7652306\ttotal: 1.79s\tremaining: 1.26s\n",
      "587:\tlearn: 1.7650533\ttotal: 1.79s\tremaining: 1.26s\n",
      "588:\tlearn: 1.7650173\ttotal: 1.8s\tremaining: 1.25s\n",
      "589:\tlearn: 1.7647861\ttotal: 1.8s\tremaining: 1.25s\n",
      "590:\tlearn: 1.7646164\ttotal: 1.8s\tremaining: 1.25s\n",
      "591:\tlearn: 1.7644469\ttotal: 1.81s\tremaining: 1.24s\n",
      "592:\tlearn: 1.7643154\ttotal: 1.81s\tremaining: 1.24s\n",
      "593:\tlearn: 1.7642640\ttotal: 1.81s\tremaining: 1.24s\n",
      "594:\tlearn: 1.7641452\ttotal: 1.81s\tremaining: 1.23s\n",
      "595:\tlearn: 1.7640077\ttotal: 1.81s\tremaining: 1.23s\n",
      "596:\tlearn: 1.7638965\ttotal: 1.82s\tremaining: 1.23s\n",
      "597:\tlearn: 1.7637348\ttotal: 1.82s\tremaining: 1.23s\n",
      "598:\tlearn: 1.7635448\ttotal: 1.83s\tremaining: 1.22s\n",
      "599:\tlearn: 1.7635130\ttotal: 1.83s\tremaining: 1.22s\n",
      "600:\tlearn: 1.7634207\ttotal: 1.83s\tremaining: 1.22s\n",
      "601:\tlearn: 1.7632977\ttotal: 1.83s\tremaining: 1.21s\n",
      "602:\tlearn: 1.7630998\ttotal: 1.84s\tremaining: 1.21s\n",
      "603:\tlearn: 1.7629590\ttotal: 1.84s\tremaining: 1.21s\n",
      "604:\tlearn: 1.7628181\ttotal: 1.84s\tremaining: 1.2s\n",
      "605:\tlearn: 1.7627118\ttotal: 1.85s\tremaining: 1.2s\n",
      "606:\tlearn: 1.7625440\ttotal: 1.85s\tremaining: 1.2s\n",
      "607:\tlearn: 1.7624325\ttotal: 1.85s\tremaining: 1.2s\n",
      "608:\tlearn: 1.7624019\ttotal: 1.86s\tremaining: 1.19s\n",
      "609:\tlearn: 1.7622407\ttotal: 1.86s\tremaining: 1.19s\n",
      "610:\tlearn: 1.7621379\ttotal: 1.86s\tremaining: 1.19s\n",
      "611:\tlearn: 1.7620585\ttotal: 1.87s\tremaining: 1.18s\n",
      "612:\tlearn: 1.7619012\ttotal: 1.87s\tremaining: 1.18s\n",
      "613:\tlearn: 1.7618898\ttotal: 1.87s\tremaining: 1.18s\n",
      "614:\tlearn: 1.7616481\ttotal: 1.87s\tremaining: 1.17s\n",
      "615:\tlearn: 1.7614462\ttotal: 1.88s\tremaining: 1.17s\n",
      "616:\tlearn: 1.7613364\ttotal: 1.88s\tremaining: 1.17s\n",
      "617:\tlearn: 1.7612524\ttotal: 1.88s\tremaining: 1.16s\n",
      "618:\tlearn: 1.7610668\ttotal: 1.88s\tremaining: 1.16s\n",
      "619:\tlearn: 1.7609981\ttotal: 1.89s\tremaining: 1.16s\n",
      "620:\tlearn: 1.7607746\ttotal: 1.89s\tremaining: 1.15s\n",
      "621:\tlearn: 1.7606474\ttotal: 1.89s\tremaining: 1.15s\n",
      "622:\tlearn: 1.7605128\ttotal: 1.9s\tremaining: 1.15s\n",
      "623:\tlearn: 1.7603049\ttotal: 1.9s\tremaining: 1.14s\n",
      "624:\tlearn: 1.7602546\ttotal: 1.9s\tremaining: 1.14s\n",
      "625:\tlearn: 1.7601709\ttotal: 1.9s\tremaining: 1.14s\n",
      "626:\tlearn: 1.7599967\ttotal: 1.91s\tremaining: 1.13s\n",
      "627:\tlearn: 1.7599440\ttotal: 1.91s\tremaining: 1.13s\n",
      "628:\tlearn: 1.7597921\ttotal: 1.91s\tremaining: 1.13s\n",
      "629:\tlearn: 1.7597700\ttotal: 1.91s\tremaining: 1.12s\n",
      "630:\tlearn: 1.7596015\ttotal: 1.92s\tremaining: 1.12s\n",
      "631:\tlearn: 1.7594260\ttotal: 1.92s\tremaining: 1.12s\n",
      "632:\tlearn: 1.7592676\ttotal: 1.92s\tremaining: 1.11s\n",
      "633:\tlearn: 1.7589885\ttotal: 1.92s\tremaining: 1.11s\n",
      "634:\tlearn: 1.7588932\ttotal: 1.93s\tremaining: 1.11s\n",
      "635:\tlearn: 1.7587728\ttotal: 1.93s\tremaining: 1.1s\n",
      "636:\tlearn: 1.7586848\ttotal: 1.93s\tremaining: 1.1s\n",
      "637:\tlearn: 1.7585643\ttotal: 1.93s\tremaining: 1.1s\n",
      "638:\tlearn: 1.7585265\ttotal: 1.94s\tremaining: 1.09s\n",
      "639:\tlearn: 1.7584682\ttotal: 1.94s\tremaining: 1.09s\n",
      "640:\tlearn: 1.7584081\ttotal: 1.94s\tremaining: 1.09s\n",
      "641:\tlearn: 1.7582602\ttotal: 1.94s\tremaining: 1.08s\n",
      "642:\tlearn: 1.7581650\ttotal: 1.95s\tremaining: 1.08s\n",
      "643:\tlearn: 1.7578317\ttotal: 1.95s\tremaining: 1.08s\n",
      "644:\tlearn: 1.7576614\ttotal: 1.96s\tremaining: 1.08s\n",
      "645:\tlearn: 1.7574238\ttotal: 1.96s\tremaining: 1.07s\n",
      "646:\tlearn: 1.7572634\ttotal: 1.96s\tremaining: 1.07s\n",
      "647:\tlearn: 1.7570959\ttotal: 1.97s\tremaining: 1.07s\n",
      "648:\tlearn: 1.7568969\ttotal: 1.97s\tremaining: 1.06s\n",
      "649:\tlearn: 1.7567122\ttotal: 1.97s\tremaining: 1.06s\n",
      "650:\tlearn: 1.7565977\ttotal: 1.98s\tremaining: 1.06s\n",
      "651:\tlearn: 1.7564238\ttotal: 1.98s\tremaining: 1.06s\n",
      "652:\tlearn: 1.7563251\ttotal: 1.98s\tremaining: 1.05s\n",
      "653:\tlearn: 1.7561379\ttotal: 1.98s\tremaining: 1.05s\n",
      "654:\tlearn: 1.7559572\ttotal: 1.99s\tremaining: 1.05s\n",
      "655:\tlearn: 1.7557945\ttotal: 1.99s\tremaining: 1.04s\n",
      "656:\tlearn: 1.7556483\ttotal: 2s\tremaining: 1.04s\n",
      "657:\tlearn: 1.7554549\ttotal: 2s\tremaining: 1.04s\n",
      "658:\tlearn: 1.7552723\ttotal: 2s\tremaining: 1.03s\n",
      "659:\tlearn: 1.7551193\ttotal: 2s\tremaining: 1.03s\n",
      "660:\tlearn: 1.7548302\ttotal: 2.01s\tremaining: 1.03s\n",
      "661:\tlearn: 1.7546095\ttotal: 2.01s\tremaining: 1.03s\n",
      "662:\tlearn: 1.7544568\ttotal: 2.01s\tremaining: 1.02s\n",
      "663:\tlearn: 1.7542760\ttotal: 2.02s\tremaining: 1.02s\n",
      "664:\tlearn: 1.7540998\ttotal: 2.02s\tremaining: 1.02s\n",
      "665:\tlearn: 1.7537964\ttotal: 2.02s\tremaining: 1.01s\n",
      "666:\tlearn: 1.7536411\ttotal: 2.02s\tremaining: 1.01s\n",
      "667:\tlearn: 1.7535305\ttotal: 2.02s\tremaining: 1.01s\n",
      "668:\tlearn: 1.7533701\ttotal: 2.03s\tremaining: 1s\n",
      "669:\tlearn: 1.7531895\ttotal: 2.03s\tremaining: 1s\n",
      "670:\tlearn: 1.7530031\ttotal: 2.04s\tremaining: 998ms\n",
      "671:\tlearn: 1.7528956\ttotal: 2.04s\tremaining: 995ms\n",
      "672:\tlearn: 1.7527264\ttotal: 2.04s\tremaining: 992ms\n",
      "673:\tlearn: 1.7525737\ttotal: 2.04s\tremaining: 989ms\n",
      "674:\tlearn: 1.7524230\ttotal: 2.05s\tremaining: 985ms\n",
      "675:\tlearn: 1.7522570\ttotal: 2.05s\tremaining: 982ms\n",
      "676:\tlearn: 1.7520830\ttotal: 2.05s\tremaining: 979ms\n",
      "677:\tlearn: 1.7518884\ttotal: 2.05s\tremaining: 976ms\n",
      "678:\tlearn: 1.7516438\ttotal: 2.06s\tremaining: 973ms\n",
      "679:\tlearn: 1.7515126\ttotal: 2.06s\tremaining: 970ms\n",
      "680:\tlearn: 1.7514316\ttotal: 2.06s\tremaining: 967ms\n",
      "681:\tlearn: 1.7512476\ttotal: 2.07s\tremaining: 963ms\n",
      "682:\tlearn: 1.7510909\ttotal: 2.07s\tremaining: 960ms\n",
      "683:\tlearn: 1.7508875\ttotal: 2.07s\tremaining: 957ms\n",
      "684:\tlearn: 1.7506885\ttotal: 2.07s\tremaining: 954ms\n",
      "685:\tlearn: 1.7505733\ttotal: 2.08s\tremaining: 950ms\n",
      "686:\tlearn: 1.7504449\ttotal: 2.08s\tremaining: 947ms\n",
      "687:\tlearn: 1.7504164\ttotal: 2.08s\tremaining: 944ms\n",
      "688:\tlearn: 1.7502132\ttotal: 2.08s\tremaining: 941ms\n",
      "689:\tlearn: 1.7500293\ttotal: 2.09s\tremaining: 937ms\n",
      "690:\tlearn: 1.7498512\ttotal: 2.09s\tremaining: 935ms\n",
      "691:\tlearn: 1.7497422\ttotal: 2.09s\tremaining: 931ms\n",
      "692:\tlearn: 1.7495802\ttotal: 2.1s\tremaining: 928ms\n",
      "693:\tlearn: 1.7494563\ttotal: 2.1s\tremaining: 925ms\n",
      "694:\tlearn: 1.7493275\ttotal: 2.1s\tremaining: 922ms\n",
      "695:\tlearn: 1.7491480\ttotal: 2.1s\tremaining: 918ms\n",
      "696:\tlearn: 1.7489911\ttotal: 2.1s\tremaining: 915ms\n",
      "697:\tlearn: 1.7488505\ttotal: 2.11s\tremaining: 912ms\n",
      "698:\tlearn: 1.7487789\ttotal: 2.11s\tremaining: 909ms\n",
      "699:\tlearn: 1.7485857\ttotal: 2.11s\tremaining: 905ms\n",
      "700:\tlearn: 1.7484047\ttotal: 2.12s\tremaining: 902ms\n",
      "701:\tlearn: 1.7481463\ttotal: 2.12s\tremaining: 899ms\n",
      "702:\tlearn: 1.7479664\ttotal: 2.12s\tremaining: 896ms\n",
      "703:\tlearn: 1.7477958\ttotal: 2.12s\tremaining: 893ms\n",
      "704:\tlearn: 1.7477698\ttotal: 2.13s\tremaining: 890ms\n",
      "705:\tlearn: 1.7476158\ttotal: 2.13s\tremaining: 887ms\n",
      "706:\tlearn: 1.7474742\ttotal: 2.13s\tremaining: 884ms\n",
      "707:\tlearn: 1.7474020\ttotal: 2.13s\tremaining: 880ms\n",
      "708:\tlearn: 1.7472547\ttotal: 2.14s\tremaining: 877ms\n",
      "709:\tlearn: 1.7470897\ttotal: 2.14s\tremaining: 874ms\n",
      "710:\tlearn: 1.7469536\ttotal: 2.14s\tremaining: 871ms\n",
      "711:\tlearn: 1.7468528\ttotal: 2.14s\tremaining: 867ms\n",
      "712:\tlearn: 1.7467587\ttotal: 2.15s\tremaining: 864ms\n",
      "713:\tlearn: 1.7466013\ttotal: 2.15s\tremaining: 861ms\n",
      "714:\tlearn: 1.7464350\ttotal: 2.15s\tremaining: 858ms\n",
      "715:\tlearn: 1.7463747\ttotal: 2.15s\tremaining: 855ms\n",
      "716:\tlearn: 1.7461837\ttotal: 2.16s\tremaining: 851ms\n",
      "717:\tlearn: 1.7461386\ttotal: 2.16s\tremaining: 848ms\n",
      "718:\tlearn: 1.7460094\ttotal: 2.16s\tremaining: 845ms\n",
      "719:\tlearn: 1.7459037\ttotal: 2.16s\tremaining: 842ms\n",
      "720:\tlearn: 1.7457318\ttotal: 2.17s\tremaining: 838ms\n",
      "721:\tlearn: 1.7456692\ttotal: 2.17s\tremaining: 835ms\n",
      "722:\tlearn: 1.7455454\ttotal: 2.17s\tremaining: 832ms\n",
      "723:\tlearn: 1.7453505\ttotal: 2.17s\tremaining: 829ms\n",
      "724:\tlearn: 1.7453005\ttotal: 2.18s\tremaining: 826ms\n",
      "725:\tlearn: 1.7451523\ttotal: 2.18s\tremaining: 822ms\n",
      "726:\tlearn: 1.7449855\ttotal: 2.18s\tremaining: 819ms\n",
      "727:\tlearn: 1.7448230\ttotal: 2.21s\tremaining: 825ms\n",
      "728:\tlearn: 1.7448174\ttotal: 2.21s\tremaining: 823ms\n",
      "729:\tlearn: 1.7446873\ttotal: 2.22s\tremaining: 821ms\n",
      "730:\tlearn: 1.7445122\ttotal: 2.23s\tremaining: 819ms\n",
      "731:\tlearn: 1.7444200\ttotal: 2.23s\tremaining: 816ms\n",
      "732:\tlearn: 1.7443744\ttotal: 2.23s\tremaining: 813ms\n",
      "733:\tlearn: 1.7442422\ttotal: 2.24s\tremaining: 811ms\n",
      "734:\tlearn: 1.7440543\ttotal: 2.24s\tremaining: 808ms\n",
      "735:\tlearn: 1.7439567\ttotal: 2.25s\tremaining: 806ms\n",
      "736:\tlearn: 1.7437304\ttotal: 2.25s\tremaining: 804ms\n",
      "737:\tlearn: 1.7435911\ttotal: 2.26s\tremaining: 801ms\n",
      "738:\tlearn: 1.7434398\ttotal: 2.26s\tremaining: 798ms\n",
      "739:\tlearn: 1.7434005\ttotal: 2.26s\tremaining: 795ms\n",
      "740:\tlearn: 1.7432688\ttotal: 2.26s\tremaining: 791ms\n",
      "741:\tlearn: 1.7431607\ttotal: 2.27s\tremaining: 788ms\n",
      "742:\tlearn: 1.7430207\ttotal: 2.27s\tremaining: 785ms\n",
      "743:\tlearn: 1.7428558\ttotal: 2.27s\tremaining: 782ms\n",
      "744:\tlearn: 1.7426347\ttotal: 2.27s\tremaining: 779ms\n",
      "745:\tlearn: 1.7426070\ttotal: 2.28s\tremaining: 775ms\n",
      "746:\tlearn: 1.7423881\ttotal: 2.28s\tremaining: 772ms\n",
      "747:\tlearn: 1.7422793\ttotal: 2.28s\tremaining: 769ms\n",
      "748:\tlearn: 1.7421163\ttotal: 2.29s\tremaining: 766ms\n",
      "749:\tlearn: 1.7420991\ttotal: 2.29s\tremaining: 763ms\n",
      "750:\tlearn: 1.7419617\ttotal: 2.29s\tremaining: 759ms\n",
      "751:\tlearn: 1.7418092\ttotal: 2.29s\tremaining: 756ms\n",
      "752:\tlearn: 1.7416923\ttotal: 2.29s\tremaining: 753ms\n",
      "753:\tlearn: 1.7416872\ttotal: 2.3s\tremaining: 750ms\n",
      "754:\tlearn: 1.7416270\ttotal: 2.3s\tremaining: 746ms\n",
      "755:\tlearn: 1.7414933\ttotal: 2.3s\tremaining: 743ms\n",
      "756:\tlearn: 1.7413786\ttotal: 2.31s\tremaining: 740ms\n",
      "757:\tlearn: 1.7413667\ttotal: 2.31s\tremaining: 737ms\n",
      "758:\tlearn: 1.7412015\ttotal: 2.31s\tremaining: 733ms\n",
      "759:\tlearn: 1.7410313\ttotal: 2.31s\tremaining: 730ms\n",
      "760:\tlearn: 1.7408729\ttotal: 2.31s\tremaining: 727ms\n",
      "761:\tlearn: 1.7407269\ttotal: 2.32s\tremaining: 724ms\n",
      "762:\tlearn: 1.7405985\ttotal: 2.32s\tremaining: 721ms\n",
      "763:\tlearn: 1.7405728\ttotal: 2.32s\tremaining: 717ms\n",
      "764:\tlearn: 1.7404425\ttotal: 2.33s\tremaining: 714ms\n",
      "765:\tlearn: 1.7403516\ttotal: 2.33s\tremaining: 711ms\n",
      "766:\tlearn: 1.7402018\ttotal: 2.33s\tremaining: 708ms\n",
      "767:\tlearn: 1.7401246\ttotal: 2.33s\tremaining: 705ms\n",
      "768:\tlearn: 1.7400526\ttotal: 2.33s\tremaining: 701ms\n",
      "769:\tlearn: 1.7399905\ttotal: 2.34s\tremaining: 698ms\n",
      "770:\tlearn: 1.7399757\ttotal: 2.34s\tremaining: 695ms\n",
      "771:\tlearn: 1.7399637\ttotal: 2.34s\tremaining: 692ms\n",
      "772:\tlearn: 1.7398351\ttotal: 2.34s\tremaining: 688ms\n",
      "773:\tlearn: 1.7398176\ttotal: 2.35s\tremaining: 685ms\n",
      "774:\tlearn: 1.7396681\ttotal: 2.35s\tremaining: 682ms\n",
      "775:\tlearn: 1.7395642\ttotal: 2.35s\tremaining: 679ms\n",
      "776:\tlearn: 1.7395430\ttotal: 2.35s\tremaining: 675ms\n",
      "777:\tlearn: 1.7394391\ttotal: 2.35s\tremaining: 672ms\n",
      "778:\tlearn: 1.7393342\ttotal: 2.36s\tremaining: 669ms\n",
      "779:\tlearn: 1.7392151\ttotal: 2.36s\tremaining: 666ms\n",
      "780:\tlearn: 1.7391874\ttotal: 2.36s\tremaining: 663ms\n",
      "781:\tlearn: 1.7390557\ttotal: 2.37s\tremaining: 660ms\n",
      "782:\tlearn: 1.7389692\ttotal: 2.37s\tremaining: 657ms\n",
      "783:\tlearn: 1.7388059\ttotal: 2.37s\tremaining: 653ms\n",
      "784:\tlearn: 1.7387648\ttotal: 2.37s\tremaining: 650ms\n",
      "785:\tlearn: 1.7385337\ttotal: 2.38s\tremaining: 647ms\n",
      "786:\tlearn: 1.7383893\ttotal: 2.38s\tremaining: 644ms\n",
      "787:\tlearn: 1.7382040\ttotal: 2.38s\tremaining: 641ms\n",
      "788:\tlearn: 1.7380758\ttotal: 2.38s\tremaining: 638ms\n",
      "789:\tlearn: 1.7378769\ttotal: 2.39s\tremaining: 635ms\n",
      "790:\tlearn: 1.7378265\ttotal: 2.39s\tremaining: 632ms\n",
      "791:\tlearn: 1.7377960\ttotal: 2.39s\tremaining: 628ms\n",
      "792:\tlearn: 1.7376742\ttotal: 2.39s\tremaining: 625ms\n",
      "793:\tlearn: 1.7375208\ttotal: 2.4s\tremaining: 622ms\n",
      "794:\tlearn: 1.7372478\ttotal: 2.4s\tremaining: 619ms\n",
      "795:\tlearn: 1.7371409\ttotal: 2.4s\tremaining: 616ms\n",
      "796:\tlearn: 1.7369979\ttotal: 2.4s\tremaining: 613ms\n",
      "797:\tlearn: 1.7367477\ttotal: 2.41s\tremaining: 610ms\n",
      "798:\tlearn: 1.7366193\ttotal: 2.41s\tremaining: 607ms\n",
      "799:\tlearn: 1.7364404\ttotal: 2.42s\tremaining: 604ms\n",
      "800:\tlearn: 1.7363882\ttotal: 2.42s\tremaining: 601ms\n",
      "801:\tlearn: 1.7362705\ttotal: 2.42s\tremaining: 598ms\n",
      "802:\tlearn: 1.7361300\ttotal: 2.42s\tremaining: 594ms\n",
      "803:\tlearn: 1.7360049\ttotal: 2.42s\tremaining: 591ms\n",
      "804:\tlearn: 1.7358606\ttotal: 2.43s\tremaining: 589ms\n",
      "805:\tlearn: 1.7356775\ttotal: 2.43s\tremaining: 586ms\n",
      "806:\tlearn: 1.7354775\ttotal: 2.44s\tremaining: 583ms\n",
      "807:\tlearn: 1.7353149\ttotal: 2.44s\tremaining: 580ms\n",
      "808:\tlearn: 1.7351206\ttotal: 2.44s\tremaining: 576ms\n",
      "809:\tlearn: 1.7349971\ttotal: 2.44s\tremaining: 573ms\n",
      "810:\tlearn: 1.7349220\ttotal: 2.45s\tremaining: 570ms\n",
      "811:\tlearn: 1.7348112\ttotal: 2.45s\tremaining: 567ms\n",
      "812:\tlearn: 1.7346731\ttotal: 2.45s\tremaining: 564ms\n",
      "813:\tlearn: 1.7345072\ttotal: 2.45s\tremaining: 561ms\n",
      "814:\tlearn: 1.7344424\ttotal: 2.46s\tremaining: 558ms\n",
      "815:\tlearn: 1.7343775\ttotal: 2.46s\tremaining: 555ms\n",
      "816:\tlearn: 1.7343633\ttotal: 2.46s\tremaining: 551ms\n",
      "817:\tlearn: 1.7341504\ttotal: 2.46s\tremaining: 548ms\n",
      "818:\tlearn: 1.7339998\ttotal: 2.47s\tremaining: 546ms\n",
      "819:\tlearn: 1.7337644\ttotal: 2.47s\tremaining: 542ms\n",
      "820:\tlearn: 1.7335635\ttotal: 2.47s\tremaining: 539ms\n",
      "821:\tlearn: 1.7334534\ttotal: 2.48s\tremaining: 536ms\n",
      "822:\tlearn: 1.7332895\ttotal: 2.48s\tremaining: 533ms\n",
      "823:\tlearn: 1.7331478\ttotal: 2.48s\tremaining: 530ms\n",
      "824:\tlearn: 1.7329177\ttotal: 2.48s\tremaining: 527ms\n",
      "825:\tlearn: 1.7328190\ttotal: 2.49s\tremaining: 524ms\n",
      "826:\tlearn: 1.7327978\ttotal: 2.49s\tremaining: 521ms\n",
      "827:\tlearn: 1.7326051\ttotal: 2.49s\tremaining: 518ms\n",
      "828:\tlearn: 1.7325591\ttotal: 2.5s\tremaining: 515ms\n",
      "829:\tlearn: 1.7324244\ttotal: 2.5s\tremaining: 512ms\n",
      "830:\tlearn: 1.7323278\ttotal: 2.5s\tremaining: 509ms\n",
      "831:\tlearn: 1.7322036\ttotal: 2.5s\tremaining: 505ms\n",
      "832:\tlearn: 1.7321879\ttotal: 2.5s\tremaining: 502ms\n",
      "833:\tlearn: 1.7321554\ttotal: 2.51s\tremaining: 499ms\n",
      "834:\tlearn: 1.7320965\ttotal: 2.51s\tremaining: 496ms\n",
      "835:\tlearn: 1.7320799\ttotal: 2.51s\tremaining: 493ms\n",
      "836:\tlearn: 1.7320480\ttotal: 2.51s\tremaining: 490ms\n",
      "837:\tlearn: 1.7319296\ttotal: 2.52s\tremaining: 487ms\n",
      "838:\tlearn: 1.7318684\ttotal: 2.52s\tremaining: 483ms\n",
      "839:\tlearn: 1.7318300\ttotal: 2.52s\tremaining: 480ms\n",
      "840:\tlearn: 1.7316809\ttotal: 2.52s\tremaining: 477ms\n",
      "841:\tlearn: 1.7315276\ttotal: 2.53s\tremaining: 474ms\n",
      "842:\tlearn: 1.7313525\ttotal: 2.53s\tremaining: 471ms\n",
      "843:\tlearn: 1.7312090\ttotal: 2.53s\tremaining: 468ms\n",
      "844:\tlearn: 1.7310326\ttotal: 2.54s\tremaining: 465ms\n",
      "845:\tlearn: 1.7308861\ttotal: 2.54s\tremaining: 462ms\n",
      "846:\tlearn: 1.7307695\ttotal: 2.54s\tremaining: 459ms\n",
      "847:\tlearn: 1.7305799\ttotal: 2.54s\tremaining: 456ms\n",
      "848:\tlearn: 1.7304226\ttotal: 2.55s\tremaining: 453ms\n",
      "849:\tlearn: 1.7302555\ttotal: 2.55s\tremaining: 450ms\n",
      "850:\tlearn: 1.7301484\ttotal: 2.55s\tremaining: 447ms\n",
      "851:\tlearn: 1.7299213\ttotal: 2.56s\tremaining: 444ms\n",
      "852:\tlearn: 1.7298377\ttotal: 2.56s\tremaining: 441ms\n",
      "853:\tlearn: 1.7296064\ttotal: 2.56s\tremaining: 438ms\n",
      "854:\tlearn: 1.7294787\ttotal: 2.56s\tremaining: 435ms\n",
      "855:\tlearn: 1.7294470\ttotal: 2.57s\tremaining: 432ms\n",
      "856:\tlearn: 1.7294032\ttotal: 2.57s\tremaining: 429ms\n",
      "857:\tlearn: 1.7291946\ttotal: 2.57s\tremaining: 426ms\n",
      "858:\tlearn: 1.7291297\ttotal: 2.57s\tremaining: 423ms\n",
      "859:\tlearn: 1.7289889\ttotal: 2.58s\tremaining: 419ms\n",
      "860:\tlearn: 1.7289473\ttotal: 2.58s\tremaining: 416ms\n",
      "861:\tlearn: 1.7287935\ttotal: 2.58s\tremaining: 413ms\n",
      "862:\tlearn: 1.7286415\ttotal: 2.58s\tremaining: 410ms\n",
      "863:\tlearn: 1.7284775\ttotal: 2.59s\tremaining: 407ms\n",
      "864:\tlearn: 1.7282831\ttotal: 2.59s\tremaining: 404ms\n",
      "865:\tlearn: 1.7281019\ttotal: 2.59s\tremaining: 401ms\n",
      "866:\tlearn: 1.7279098\ttotal: 2.6s\tremaining: 398ms\n",
      "867:\tlearn: 1.7278479\ttotal: 2.6s\tremaining: 395ms\n",
      "868:\tlearn: 1.7276967\ttotal: 2.6s\tremaining: 392ms\n",
      "869:\tlearn: 1.7275517\ttotal: 2.6s\tremaining: 389ms\n",
      "870:\tlearn: 1.7274403\ttotal: 2.61s\tremaining: 386ms\n",
      "871:\tlearn: 1.7272487\ttotal: 2.61s\tremaining: 383ms\n",
      "872:\tlearn: 1.7271104\ttotal: 2.61s\tremaining: 380ms\n",
      "873:\tlearn: 1.7270056\ttotal: 2.61s\tremaining: 377ms\n",
      "874:\tlearn: 1.7268809\ttotal: 2.62s\tremaining: 374ms\n",
      "875:\tlearn: 1.7267153\ttotal: 2.62s\tremaining: 371ms\n",
      "876:\tlearn: 1.7266332\ttotal: 2.62s\tremaining: 368ms\n",
      "877:\tlearn: 1.7266177\ttotal: 2.62s\tremaining: 365ms\n",
      "878:\tlearn: 1.7264639\ttotal: 2.63s\tremaining: 362ms\n",
      "879:\tlearn: 1.7264548\ttotal: 2.63s\tremaining: 359ms\n",
      "880:\tlearn: 1.7264268\ttotal: 2.63s\tremaining: 356ms\n",
      "881:\tlearn: 1.7262999\ttotal: 2.64s\tremaining: 353ms\n",
      "882:\tlearn: 1.7262184\ttotal: 2.64s\tremaining: 350ms\n",
      "883:\tlearn: 1.7260575\ttotal: 2.64s\tremaining: 347ms\n",
      "884:\tlearn: 1.7259567\ttotal: 2.65s\tremaining: 344ms\n",
      "885:\tlearn: 1.7259124\ttotal: 2.65s\tremaining: 341ms\n",
      "886:\tlearn: 1.7256949\ttotal: 2.65s\tremaining: 338ms\n",
      "887:\tlearn: 1.7255569\ttotal: 2.65s\tremaining: 335ms\n",
      "888:\tlearn: 1.7253241\ttotal: 2.66s\tremaining: 332ms\n",
      "889:\tlearn: 1.7251969\ttotal: 2.66s\tremaining: 329ms\n",
      "890:\tlearn: 1.7250229\ttotal: 2.66s\tremaining: 326ms\n",
      "891:\tlearn: 1.7250209\ttotal: 2.67s\tremaining: 323ms\n",
      "892:\tlearn: 1.7249250\ttotal: 2.67s\tremaining: 320ms\n",
      "893:\tlearn: 1.7247238\ttotal: 2.67s\tremaining: 317ms\n",
      "894:\tlearn: 1.7246079\ttotal: 2.67s\tremaining: 314ms\n",
      "895:\tlearn: 1.7245645\ttotal: 2.68s\tremaining: 311ms\n",
      "896:\tlearn: 1.7244501\ttotal: 2.68s\tremaining: 308ms\n",
      "897:\tlearn: 1.7243482\ttotal: 2.68s\tremaining: 305ms\n",
      "898:\tlearn: 1.7242483\ttotal: 2.68s\tremaining: 302ms\n",
      "899:\tlearn: 1.7242053\ttotal: 2.69s\tremaining: 298ms\n",
      "900:\tlearn: 1.7241123\ttotal: 2.69s\tremaining: 295ms\n",
      "901:\tlearn: 1.7239819\ttotal: 2.69s\tremaining: 292ms\n",
      "902:\tlearn: 1.7238604\ttotal: 2.69s\tremaining: 289ms\n",
      "903:\tlearn: 1.7237331\ttotal: 2.7s\tremaining: 286ms\n",
      "904:\tlearn: 1.7236581\ttotal: 2.7s\tremaining: 283ms\n",
      "905:\tlearn: 1.7235155\ttotal: 2.7s\tremaining: 280ms\n",
      "906:\tlearn: 1.7232439\ttotal: 2.71s\tremaining: 277ms\n",
      "907:\tlearn: 1.7231095\ttotal: 2.71s\tremaining: 274ms\n",
      "908:\tlearn: 1.7230483\ttotal: 2.71s\tremaining: 271ms\n",
      "909:\tlearn: 1.7230300\ttotal: 2.71s\tremaining: 268ms\n",
      "910:\tlearn: 1.7228109\ttotal: 2.71s\tremaining: 265ms\n",
      "911:\tlearn: 1.7227946\ttotal: 2.72s\tremaining: 262ms\n",
      "912:\tlearn: 1.7226383\ttotal: 2.72s\tremaining: 259ms\n",
      "913:\tlearn: 1.7224884\ttotal: 2.72s\tremaining: 256ms\n",
      "914:\tlearn: 1.7223901\ttotal: 2.73s\tremaining: 253ms\n",
      "915:\tlearn: 1.7223088\ttotal: 2.73s\tremaining: 250ms\n",
      "916:\tlearn: 1.7222069\ttotal: 2.73s\tremaining: 247ms\n",
      "917:\tlearn: 1.7219717\ttotal: 2.73s\tremaining: 244ms\n",
      "918:\tlearn: 1.7218366\ttotal: 2.74s\tremaining: 241ms\n",
      "919:\tlearn: 1.7217262\ttotal: 2.74s\tremaining: 238ms\n",
      "920:\tlearn: 1.7215787\ttotal: 2.74s\tremaining: 235ms\n",
      "921:\tlearn: 1.7214168\ttotal: 2.75s\tremaining: 232ms\n",
      "922:\tlearn: 1.7213396\ttotal: 2.75s\tremaining: 230ms\n",
      "923:\tlearn: 1.7211499\ttotal: 2.75s\tremaining: 227ms\n",
      "924:\tlearn: 1.7209693\ttotal: 2.76s\tremaining: 224ms\n",
      "925:\tlearn: 1.7208512\ttotal: 2.76s\tremaining: 221ms\n",
      "926:\tlearn: 1.7207518\ttotal: 2.77s\tremaining: 218ms\n",
      "927:\tlearn: 1.7206148\ttotal: 2.77s\tremaining: 215ms\n",
      "928:\tlearn: 1.7205604\ttotal: 2.78s\tremaining: 212ms\n",
      "929:\tlearn: 1.7205368\ttotal: 2.78s\tremaining: 209ms\n",
      "930:\tlearn: 1.7205257\ttotal: 2.79s\tremaining: 207ms\n",
      "931:\tlearn: 1.7203575\ttotal: 2.79s\tremaining: 204ms\n",
      "932:\tlearn: 1.7202239\ttotal: 2.8s\tremaining: 201ms\n",
      "933:\tlearn: 1.7201251\ttotal: 2.8s\tremaining: 198ms\n",
      "934:\tlearn: 1.7200708\ttotal: 2.8s\tremaining: 195ms\n",
      "935:\tlearn: 1.7200265\ttotal: 2.81s\tremaining: 192ms\n",
      "936:\tlearn: 1.7198753\ttotal: 2.81s\tremaining: 189ms\n",
      "937:\tlearn: 1.7197779\ttotal: 2.81s\tremaining: 186ms\n",
      "938:\tlearn: 1.7195858\ttotal: 2.82s\tremaining: 183ms\n",
      "939:\tlearn: 1.7194088\ttotal: 2.82s\tremaining: 180ms\n",
      "940:\tlearn: 1.7192370\ttotal: 2.82s\tremaining: 177ms\n",
      "941:\tlearn: 1.7190983\ttotal: 2.83s\tremaining: 174ms\n",
      "942:\tlearn: 1.7189339\ttotal: 2.83s\tremaining: 171ms\n",
      "943:\tlearn: 1.7187938\ttotal: 2.83s\tremaining: 168ms\n",
      "944:\tlearn: 1.7187183\ttotal: 2.83s\tremaining: 165ms\n",
      "945:\tlearn: 1.7185390\ttotal: 2.84s\tremaining: 162ms\n",
      "946:\tlearn: 1.7184586\ttotal: 2.84s\tremaining: 159ms\n",
      "947:\tlearn: 1.7183308\ttotal: 2.85s\tremaining: 156ms\n",
      "948:\tlearn: 1.7182220\ttotal: 2.85s\tremaining: 153ms\n",
      "949:\tlearn: 1.7179993\ttotal: 2.85s\tremaining: 150ms\n",
      "950:\tlearn: 1.7178613\ttotal: 2.85s\tremaining: 147ms\n",
      "951:\tlearn: 1.7177361\ttotal: 2.86s\tremaining: 144ms\n",
      "952:\tlearn: 1.7175810\ttotal: 2.86s\tremaining: 141ms\n",
      "953:\tlearn: 1.7175613\ttotal: 2.86s\tremaining: 138ms\n",
      "954:\tlearn: 1.7175198\ttotal: 2.87s\tremaining: 135ms\n",
      "955:\tlearn: 1.7173660\ttotal: 2.87s\tremaining: 132ms\n",
      "956:\tlearn: 1.7172101\ttotal: 2.87s\tremaining: 129ms\n",
      "957:\tlearn: 1.7171491\ttotal: 2.88s\tremaining: 126ms\n",
      "958:\tlearn: 1.7170386\ttotal: 2.88s\tremaining: 123ms\n",
      "959:\tlearn: 1.7169422\ttotal: 2.88s\tremaining: 120ms\n",
      "960:\tlearn: 1.7168553\ttotal: 2.88s\tremaining: 117ms\n",
      "961:\tlearn: 1.7167989\ttotal: 2.89s\tremaining: 114ms\n",
      "962:\tlearn: 1.7166002\ttotal: 2.89s\tremaining: 111ms\n",
      "963:\tlearn: 1.7164419\ttotal: 2.89s\tremaining: 108ms\n",
      "964:\tlearn: 1.7163378\ttotal: 2.89s\tremaining: 105ms\n",
      "965:\tlearn: 1.7161979\ttotal: 2.9s\tremaining: 102ms\n",
      "966:\tlearn: 1.7161243\ttotal: 2.9s\tremaining: 98.9ms\n",
      "967:\tlearn: 1.7161128\ttotal: 2.9s\tremaining: 95.9ms\n",
      "968:\tlearn: 1.7160031\ttotal: 2.9s\tremaining: 92.9ms\n",
      "969:\tlearn: 1.7158466\ttotal: 2.91s\tremaining: 89.9ms\n",
      "970:\tlearn: 1.7156464\ttotal: 2.91s\tremaining: 86.9ms\n",
      "971:\tlearn: 1.7155717\ttotal: 2.91s\tremaining: 83.9ms\n",
      "972:\tlearn: 1.7154307\ttotal: 2.92s\tremaining: 80.9ms\n",
      "973:\tlearn: 1.7153324\ttotal: 2.92s\tremaining: 77.9ms\n",
      "974:\tlearn: 1.7152130\ttotal: 2.92s\tremaining: 74.9ms\n",
      "975:\tlearn: 1.7151731\ttotal: 2.92s\tremaining: 71.9ms\n",
      "976:\tlearn: 1.7150849\ttotal: 2.92s\tremaining: 68.9ms\n",
      "977:\tlearn: 1.7149223\ttotal: 2.93s\tremaining: 65.9ms\n",
      "978:\tlearn: 1.7146976\ttotal: 2.93s\tremaining: 62.9ms\n",
      "979:\tlearn: 1.7144533\ttotal: 2.93s\tremaining: 59.9ms\n",
      "980:\tlearn: 1.7142890\ttotal: 2.94s\tremaining: 56.9ms\n",
      "981:\tlearn: 1.7141172\ttotal: 2.94s\tremaining: 53.9ms\n",
      "982:\tlearn: 1.7138991\ttotal: 2.94s\tremaining: 50.9ms\n",
      "983:\tlearn: 1.7137963\ttotal: 2.94s\tremaining: 47.9ms\n",
      "984:\tlearn: 1.7137003\ttotal: 2.95s\tremaining: 44.9ms\n",
      "985:\tlearn: 1.7135781\ttotal: 2.95s\tremaining: 41.9ms\n",
      "986:\tlearn: 1.7134995\ttotal: 2.95s\tremaining: 38.9ms\n",
      "987:\tlearn: 1.7134672\ttotal: 2.95s\tremaining: 35.9ms\n",
      "988:\tlearn: 1.7133325\ttotal: 2.96s\tremaining: 32.9ms\n",
      "989:\tlearn: 1.7132427\ttotal: 2.96s\tremaining: 29.9ms\n",
      "990:\tlearn: 1.7130919\ttotal: 2.96s\tremaining: 26.9ms\n",
      "991:\tlearn: 1.7129811\ttotal: 2.96s\tremaining: 23.9ms\n",
      "992:\tlearn: 1.7129226\ttotal: 2.97s\tremaining: 20.9ms\n",
      "993:\tlearn: 1.7126547\ttotal: 2.97s\tremaining: 17.9ms\n",
      "994:\tlearn: 1.7125296\ttotal: 2.97s\tremaining: 14.9ms\n",
      "995:\tlearn: 1.7124577\ttotal: 2.98s\tremaining: 11.9ms\n",
      "996:\tlearn: 1.7123269\ttotal: 2.98s\tremaining: 8.96ms\n",
      "997:\tlearn: 1.7122959\ttotal: 2.98s\tremaining: 5.97ms\n",
      "998:\tlearn: 1.7122190\ttotal: 2.98s\tremaining: 2.98ms\n",
      "999:\tlearn: 1.7121749\ttotal: 2.98s\tremaining: 0us\n"
     ]
    },
    {
     "data": {
      "text/plain": "AdaBoostRegressor()",
      "text/html": "<style>#sk-container-id-2 {color: black;background-color: white;}#sk-container-id-2 pre{padding: 0;}#sk-container-id-2 div.sk-toggleable {background-color: white;}#sk-container-id-2 label.sk-toggleable__label {cursor: pointer;display: block;width: 100%;margin-bottom: 0;padding: 0.3em;box-sizing: border-box;text-align: center;}#sk-container-id-2 label.sk-toggleable__label-arrow:before {content: \"▸\";float: left;margin-right: 0.25em;color: #696969;}#sk-container-id-2 label.sk-toggleable__label-arrow:hover:before {color: black;}#sk-container-id-2 div.sk-estimator:hover label.sk-toggleable__label-arrow:before {color: black;}#sk-container-id-2 div.sk-toggleable__content {max-height: 0;max-width: 0;overflow: hidden;text-align: left;background-color: #f0f8ff;}#sk-container-id-2 div.sk-toggleable__content pre {margin: 0.2em;color: black;border-radius: 0.25em;background-color: #f0f8ff;}#sk-container-id-2 input.sk-toggleable__control:checked~div.sk-toggleable__content {max-height: 200px;max-width: 100%;overflow: auto;}#sk-container-id-2 input.sk-toggleable__control:checked~label.sk-toggleable__label-arrow:before {content: \"▾\";}#sk-container-id-2 div.sk-estimator input.sk-toggleable__control:checked~label.sk-toggleable__label {background-color: #d4ebff;}#sk-container-id-2 div.sk-label input.sk-toggleable__control:checked~label.sk-toggleable__label {background-color: #d4ebff;}#sk-container-id-2 input.sk-hidden--visually {border: 0;clip: rect(1px 1px 1px 1px);clip: rect(1px, 1px, 1px, 1px);height: 1px;margin: -1px;overflow: hidden;padding: 0;position: absolute;width: 1px;}#sk-container-id-2 div.sk-estimator {font-family: monospace;background-color: #f0f8ff;border: 1px dotted black;border-radius: 0.25em;box-sizing: border-box;margin-bottom: 0.5em;}#sk-container-id-2 div.sk-estimator:hover {background-color: #d4ebff;}#sk-container-id-2 div.sk-parallel-item::after {content: \"\";width: 100%;border-bottom: 1px solid gray;flex-grow: 1;}#sk-container-id-2 div.sk-label:hover label.sk-toggleable__label {background-color: #d4ebff;}#sk-container-id-2 div.sk-serial::before {content: \"\";position: absolute;border-left: 1px solid gray;box-sizing: border-box;top: 0;bottom: 0;left: 50%;z-index: 0;}#sk-container-id-2 div.sk-serial {display: flex;flex-direction: column;align-items: center;background-color: white;padding-right: 0.2em;padding-left: 0.2em;position: relative;}#sk-container-id-2 div.sk-item {position: relative;z-index: 1;}#sk-container-id-2 div.sk-parallel {display: flex;align-items: stretch;justify-content: center;background-color: white;position: relative;}#sk-container-id-2 div.sk-item::before, #sk-container-id-2 div.sk-parallel-item::before {content: \"\";position: absolute;border-left: 1px solid gray;box-sizing: border-box;top: 0;bottom: 0;left: 50%;z-index: -1;}#sk-container-id-2 div.sk-parallel-item {display: flex;flex-direction: column;z-index: 1;position: relative;background-color: white;}#sk-container-id-2 div.sk-parallel-item:first-child::after {align-self: flex-end;width: 50%;}#sk-container-id-2 div.sk-parallel-item:last-child::after {align-self: flex-start;width: 50%;}#sk-container-id-2 div.sk-parallel-item:only-child::after {width: 0;}#sk-container-id-2 div.sk-dashed-wrapped {border: 1px dashed gray;margin: 0 0.4em 0.5em 0.4em;box-sizing: border-box;padding-bottom: 0.4em;background-color: white;}#sk-container-id-2 div.sk-label label {font-family: monospace;font-weight: bold;display: inline-block;line-height: 1.2em;}#sk-container-id-2 div.sk-label-container {text-align: center;}#sk-container-id-2 div.sk-container {/* jupyter's `normalize.less` sets `[hidden] { display: none; }` but bootstrap.min.css set `[hidden] { display: none !important; }` so we also need the `!important` here to be able to override the default hidden behavior on the sphinx rendered scikit-learn.org. See: https://github.com/scikit-learn/scikit-learn/issues/21755 */display: inline-block !important;position: relative;}#sk-container-id-2 div.sk-text-repr-fallback {display: none;}</style><div id=\"sk-container-id-2\" class=\"sk-top-container\"><div class=\"sk-text-repr-fallback\"><pre>AdaBoostRegressor()</pre><b>In a Jupyter environment, please rerun this cell to show the HTML representation or trust the notebook. <br />On GitHub, the HTML representation is unable to render, please try loading this page with nbviewer.org.</b></div><div class=\"sk-container\" hidden><div class=\"sk-item\"><div class=\"sk-estimator sk-toggleable\"><input class=\"sk-toggleable__control sk-hidden--visually\" id=\"sk-estimator-id-2\" type=\"checkbox\" checked><label for=\"sk-estimator-id-2\" class=\"sk-toggleable__label sk-toggleable__label-arrow\">AdaBoostRegressor</label><div class=\"sk-toggleable__content\"><pre>AdaBoostRegressor()</pre></div></div></div></div></div>"
     },
     "execution_count": 33,
     "metadata": {},
     "output_type": "execute_result"
    }
   ],
   "source": [
    "# Create XGBoost regressor\n",
    "xgb_reg = XGBRegressor()\n",
    "xgb_reg.fit(X_train_processed, y_train)\n",
    "\n",
    "# Create CatBoost regressor\n",
    "catboost_reg = CatBoostRegressor()\n",
    "catboost_reg.fit(X_train_processed, y_train)\n",
    "\n",
    "# Create AdaBoost regressor\n",
    "adaboost_reg = AdaBoostRegressor()\n",
    "adaboost_reg.fit(X_train_processed, y_train)"
   ]
  },
  {
   "cell_type": "markdown",
   "metadata": {},
   "source": [
    "# Evaluation"
   ]
  },
  {
   "cell_type": "code",
   "execution_count": 34,
   "metadata": {
    "ExecuteTime": {
     "end_time": "2024-04-05T08:45:48.757787Z",
     "start_time": "2024-04-05T08:45:48.668570Z"
    }
   },
   "outputs": [],
   "source": [
    "y_pred_xgb = xgb_reg.predict(X_test_processed)\n",
    "y_pred_catboost = catboost_reg.predict(X_test_processed)\n",
    "y_pred_adaboost = adaboost_reg.predict(X_test_processed)"
   ]
  },
  {
   "cell_type": "code",
   "execution_count": 35,
   "metadata": {
    "ExecuteTime": {
     "end_time": "2024-04-05T08:45:48.763821Z",
     "start_time": "2024-04-05T08:45:48.759350Z"
    }
   },
   "outputs": [
    {
     "name": "stdout",
     "output_type": "stream",
     "text": [
      "XGBoost RMSLE: 0.1508197880684061\n",
      "CatBoost RMSLE: 0.14936157341507805\n",
      "AdaBoost RMSLE: 0.27772595857303434\n"
     ]
    }
   ],
   "source": [
    "print(f\"XGBoost RMSLE: {mean_squared_log_error(y_test, y_pred_xgb, squared=False)}\")\n",
    "print(f\"CatBoost RMSLE: {mean_squared_log_error(y_test, y_pred_catboost, squared=False)}\")\n",
    "print(f\"AdaBoost RMSLE: {mean_squared_log_error(y_test, y_pred_adaboost, squared=False)}\")"
   ]
  },
  {
   "cell_type": "markdown",
   "metadata": {},
   "source": [
    "# Prediction & Submission"
   ]
  },
  {
   "cell_type": "code",
   "execution_count": 36,
   "metadata": {
    "ExecuteTime": {
     "end_time": "2024-04-05T08:45:48.798432Z",
     "start_time": "2024-04-05T08:45:48.764806Z"
    }
   },
   "outputs": [],
   "source": [
    "test = pd.read_csv('data/test.csv')\n",
    "sub = pd.read_csv('data/sample_submission.csv')"
   ]
  },
  {
   "cell_type": "code",
   "execution_count": 37,
   "metadata": {
    "ExecuteTime": {
     "end_time": "2024-04-05T08:45:48.813033Z",
     "start_time": "2024-04-05T08:45:48.799019Z"
    }
   },
   "outputs": [],
   "source": [
    "to_pred = test.drop('id', axis=1)\n",
    "\n",
    "to_pred_processed = processor.transform(to_pred)"
   ]
  },
  {
   "cell_type": "code",
   "execution_count": 38,
   "metadata": {
    "ExecuteTime": {
     "end_time": "2024-04-05T08:45:48.890560Z",
     "start_time": "2024-04-05T08:45:48.813699Z"
    }
   },
   "outputs": [],
   "source": [
    "predictions = xgb_reg.predict(to_pred_processed)\n",
    "sub[\"Rings\"] = predictions\n",
    "sub.to_csv(\"submission.csv\", index=False)"
   ]
  },
  {
   "cell_type": "markdown",
   "metadata": {},
   "source": [
    "# Reference"
   ]
  }
 ],
 "metadata": {
  "kernelspec": {
   "display_name": "base",
   "language": "python",
   "name": "python3"
  },
  "language_info": {
   "codemirror_mode": {
    "name": "ipython",
    "version": 3
   },
   "file_extension": ".py",
   "mimetype": "text/x-python",
   "name": "python",
   "nbconvert_exporter": "python",
   "pygments_lexer": "ipython3",
   "version": "3.11.5"
  }
 },
 "nbformat": 4,
 "nbformat_minor": 2
}
